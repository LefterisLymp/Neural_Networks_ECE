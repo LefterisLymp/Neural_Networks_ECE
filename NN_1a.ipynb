{
  "nbformat": 4,
  "nbformat_minor": 0,
  "metadata": {
    "colab": {
      "name": "UCI_1111_1.ipynb",
      "provenance": [],
      "collapsed_sections": []
    },
    "kernelspec": {
      "display_name": "Python 3 (ipykernel)",
      "language": "python",
      "name": "python3"
    },
    "language_info": {
      "codemirror_mode": {
        "name": "ipython",
        "version": 3
      },
      "file_extension": ".py",
      "mimetype": "text/x-python",
      "name": "python",
      "nbconvert_exporter": "python",
      "pygments_lexer": "ipython3",
      "version": "3.10.0"
    }
  },
  "cells": [
    {
      "cell_type": "markdown",
      "metadata": {
        "id": "ALQSAcGygeI2"
      },
      "source": [
        "Ομάδα 4\n",
        "\n",
        "Νίκος Χάιδος, AM: 03118096\n",
        "\n",
        "Αργύρης Μανέτας, AM:            03117019\n",
        "\n",
        "Ελευθέριος Λυμπερόπουλος, AM:   03117061"
      ]
    },
    {
      "cell_type": "markdown",
      "metadata": {
        "id": "ntRmZYJVPJmz"
      },
      "source": [
        "### Γενικά για το Dataset\n",
        "\n",
        "Το dataset U02 αφορά μετρήσεις που έγιναν σε διακυμάνσεις από εγκεφαλογραφήματα. Με βάση αυτές τις μετρήσεις, ο classifier αποφασίζει αν ο άνθρωπος είναι σε κατάσταση Ηρεμίας (Relax) ή σε Σκεπτόμενος (Planning). \n",
        "\n",
        "Το αρχείο το διαβάσαμε με την συνάρτηση open() της Python, χωρίς να χρειαστούν μεταβολές στον τύπο του (txt).\n",
        "\n",
        "Συνολικά, περιέχει 182 δείγματα, με το κάθε ένα να έχει 12 χαρακτηριστικά. Όλα τα χαρακτηριστικά είναι διατεταγμένα, τύπου real.\n",
        "\n",
        "Στο αρχικό .txt αρχείο, δεν υπήρχε κάποια επικεφαλίδα ή αρίθμηση των γραμμών.\n",
        "\n",
        "Οι κλάσεις παίρνουν τις τιμές 1 και 2, και βρίσκονται στην τελευταία (13η) κολώνα του txt αρχείου.\n",
        "\n",
        "Δεν υπήρχε κάποια απουσιάζουσα ή NaN τιμή.\n",
        "\n",
        "Το πλήθος των τιμών ανά κλάση (όπως υπολογίζεται και παρακάτω) είναι:\n",
        " - 130 για την κλάση 1\n",
        " - 52 για την κλάση 2\n",
        "\n",
        "Εφόσον 130/52 = 2.5 > 1.5, το dataset δεν είναι ισορροπημένο."
      ]
    },
    {
      "cell_type": "code",
      "metadata": {
        "colab": {
          "base_uri": "https://localhost:8080/",
          "height": 1000
        },
        "id": "Rj5XoGeVzy7o",
        "outputId": "e2958e45-b6ac-4385-c177-72eb290d9046"
      },
      "source": [
        "#Update των βιβλιοθηκών\n",
        "\n",
        "!pip install -U numpy\n",
        "!pip install -U pandas\n",
        "!pip install -U matplotlib\n",
        "!pip install -U sklearn\n",
        "!pip install -U imbalanced-learn\n",
        "!pip install -U optuna"
      ],
      "execution_count": null,
      "outputs": [
        {
          "output_type": "stream",
          "name": "stdout",
          "text": [
            "Requirement already satisfied: numpy in /usr/local/lib/python3.7/dist-packages (1.19.5)\n",
            "Collecting numpy\n",
            "  Downloading numpy-1.21.4-cp37-cp37m-manylinux_2_12_x86_64.manylinux2010_x86_64.whl (15.7 MB)\n",
            "\u001b[K     |████████████████████████████████| 15.7 MB 15.8 MB/s \n",
            "\u001b[?25hInstalling collected packages: numpy\n",
            "  Attempting uninstall: numpy\n",
            "    Found existing installation: numpy 1.19.5\n",
            "    Uninstalling numpy-1.19.5:\n",
            "      Successfully uninstalled numpy-1.19.5\n",
            "\u001b[31mERROR: pip's dependency resolver does not currently take into account all the packages that are installed. This behaviour is the source of the following dependency conflicts.\n",
            "yellowbrick 1.3.post1 requires numpy<1.20,>=1.16.0, but you have numpy 1.21.4 which is incompatible.\n",
            "datascience 0.10.6 requires folium==0.2.1, but you have folium 0.8.3 which is incompatible.\n",
            "albumentations 0.1.12 requires imgaug<0.2.7,>=0.2.5, but you have imgaug 0.2.9 which is incompatible.\u001b[0m\n",
            "Successfully installed numpy-1.21.4\n"
          ]
        },
        {
          "output_type": "display_data",
          "data": {
            "application/vnd.colab-display-data+json": {
              "pip_warning": {
                "packages": [
                  "numpy"
                ]
              }
            }
          },
          "metadata": {}
        },
        {
          "output_type": "stream",
          "name": "stdout",
          "text": [
            "Requirement already satisfied: pandas in /usr/local/lib/python3.7/dist-packages (1.1.5)\n",
            "Collecting pandas\n",
            "  Downloading pandas-1.3.4-cp37-cp37m-manylinux_2_17_x86_64.manylinux2014_x86_64.whl (11.3 MB)\n",
            "\u001b[K     |████████████████████████████████| 11.3 MB 9.4 MB/s \n",
            "\u001b[?25hRequirement already satisfied: pytz>=2017.3 in /usr/local/lib/python3.7/dist-packages (from pandas) (2018.9)\n",
            "Requirement already satisfied: numpy>=1.17.3 in /usr/local/lib/python3.7/dist-packages (from pandas) (1.21.4)\n",
            "Requirement already satisfied: python-dateutil>=2.7.3 in /usr/local/lib/python3.7/dist-packages (from pandas) (2.8.2)\n",
            "Requirement already satisfied: six>=1.5 in /usr/local/lib/python3.7/dist-packages (from python-dateutil>=2.7.3->pandas) (1.15.0)\n",
            "Installing collected packages: pandas\n",
            "  Attempting uninstall: pandas\n",
            "    Found existing installation: pandas 1.1.5\n",
            "    Uninstalling pandas-1.1.5:\n",
            "      Successfully uninstalled pandas-1.1.5\n",
            "\u001b[31mERROR: pip's dependency resolver does not currently take into account all the packages that are installed. This behaviour is the source of the following dependency conflicts.\n",
            "google-colab 1.0.0 requires pandas~=1.1.0; python_version >= \"3.0\", but you have pandas 1.3.4 which is incompatible.\u001b[0m\n",
            "Successfully installed pandas-1.3.4\n"
          ]
        },
        {
          "output_type": "display_data",
          "data": {
            "application/vnd.colab-display-data+json": {
              "pip_warning": {
                "packages": [
                  "pandas"
                ]
              }
            }
          },
          "metadata": {}
        },
        {
          "output_type": "stream",
          "name": "stdout",
          "text": [
            "Requirement already satisfied: matplotlib in /usr/local/lib/python3.7/dist-packages (3.2.2)\n",
            "Collecting matplotlib\n",
            "  Downloading matplotlib-3.5.0-cp37-cp37m-manylinux_2_5_x86_64.manylinux1_x86_64.whl (11.2 MB)\n",
            "\u001b[K     |████████████████████████████████| 11.2 MB 14.2 MB/s \n",
            "\u001b[?25hRequirement already satisfied: fonttools>=4.22.0 in /usr/local/lib/python3.7/dist-packages (from matplotlib) (4.28.2)\n",
            "Requirement already satisfied: cycler>=0.10 in /usr/local/lib/python3.7/dist-packages (from matplotlib) (0.11.0)\n",
            "Requirement already satisfied: pillow>=6.2.0 in /usr/local/lib/python3.7/dist-packages (from matplotlib) (7.1.2)\n",
            "Requirement already satisfied: numpy>=1.17 in /usr/local/lib/python3.7/dist-packages (from matplotlib) (1.21.4)\n",
            "Requirement already satisfied: setuptools-scm>=4 in /usr/local/lib/python3.7/dist-packages (from matplotlib) (6.3.2)\n",
            "Requirement already satisfied: packaging>=20.0 in /usr/local/lib/python3.7/dist-packages (from matplotlib) (21.3)\n",
            "Requirement already satisfied: python-dateutil>=2.7 in /usr/local/lib/python3.7/dist-packages (from matplotlib) (2.8.2)\n",
            "Requirement already satisfied: kiwisolver>=1.0.1 in /usr/local/lib/python3.7/dist-packages (from matplotlib) (1.3.2)\n",
            "Requirement already satisfied: pyparsing>=2.2.1 in /usr/local/lib/python3.7/dist-packages (from matplotlib) (3.0.6)\n",
            "Requirement already satisfied: six>=1.5 in /usr/local/lib/python3.7/dist-packages (from python-dateutil>=2.7->matplotlib) (1.15.0)\n",
            "Requirement already satisfied: setuptools in /usr/local/lib/python3.7/dist-packages (from setuptools-scm>=4->matplotlib) (57.4.0)\n",
            "Requirement already satisfied: tomli>=1.0.0 in /usr/local/lib/python3.7/dist-packages (from setuptools-scm>=4->matplotlib) (1.2.2)\n",
            "Installing collected packages: matplotlib\n",
            "  Attempting uninstall: matplotlib\n",
            "    Found existing installation: matplotlib 3.2.2\n",
            "    Uninstalling matplotlib-3.2.2:\n",
            "      Successfully uninstalled matplotlib-3.2.2\n",
            "\u001b[31mERROR: pip's dependency resolver does not currently take into account all the packages that are installed. This behaviour is the source of the following dependency conflicts.\n",
            "yellowbrick 1.3.post1 requires numpy<1.20,>=1.16.0, but you have numpy 1.21.4 which is incompatible.\n",
            "albumentations 0.1.12 requires imgaug<0.2.7,>=0.2.5, but you have imgaug 0.2.9 which is incompatible.\u001b[0m\n",
            "Successfully installed matplotlib-3.5.0\n"
          ]
        },
        {
          "output_type": "display_data",
          "data": {
            "application/vnd.colab-display-data+json": {
              "pip_warning": {
                "packages": [
                  "matplotlib",
                  "mpl_toolkits"
                ]
              }
            }
          },
          "metadata": {}
        },
        {
          "output_type": "stream",
          "name": "stdout",
          "text": [
            "Requirement already satisfied: sklearn in /usr/local/lib/python3.7/dist-packages (0.0)\n",
            "Requirement already satisfied: scikit-learn in /usr/local/lib/python3.7/dist-packages (from sklearn) (1.0.1)\n",
            "Requirement already satisfied: numpy>=1.14.6 in /usr/local/lib/python3.7/dist-packages (from scikit-learn->sklearn) (1.21.4)\n",
            "Requirement already satisfied: joblib>=0.11 in /usr/local/lib/python3.7/dist-packages (from scikit-learn->sklearn) (1.1.0)\n",
            "Requirement already satisfied: threadpoolctl>=2.0.0 in /usr/local/lib/python3.7/dist-packages (from scikit-learn->sklearn) (3.0.0)\n",
            "Requirement already satisfied: scipy>=1.1.0 in /usr/local/lib/python3.7/dist-packages (from scikit-learn->sklearn) (1.4.1)\n",
            "Requirement already satisfied: imbalanced-learn in /usr/local/lib/python3.7/dist-packages (0.8.1)\n",
            "Requirement already satisfied: numpy>=1.13.3 in /usr/local/lib/python3.7/dist-packages (from imbalanced-learn) (1.21.4)\n",
            "Requirement already satisfied: scipy>=0.19.1 in /usr/local/lib/python3.7/dist-packages (from imbalanced-learn) (1.4.1)\n",
            "Requirement already satisfied: scikit-learn>=0.24 in /usr/local/lib/python3.7/dist-packages (from imbalanced-learn) (1.0.1)\n",
            "Requirement already satisfied: joblib>=0.11 in /usr/local/lib/python3.7/dist-packages (from imbalanced-learn) (1.1.0)\n",
            "Requirement already satisfied: threadpoolctl>=2.0.0 in /usr/local/lib/python3.7/dist-packages (from scikit-learn>=0.24->imbalanced-learn) (3.0.0)\n",
            "Collecting optuna\n",
            "  Downloading optuna-2.10.0-py3-none-any.whl (308 kB)\n",
            "\u001b[K     |████████████████████████████████| 308 kB 15.4 MB/s \n",
            "\u001b[?25hCollecting cliff\n",
            "  Downloading cliff-3.10.0-py3-none-any.whl (80 kB)\n",
            "\u001b[K     |████████████████████████████████| 80 kB 9.6 MB/s \n",
            "\u001b[?25hCollecting colorlog\n",
            "  Downloading colorlog-6.6.0-py2.py3-none-any.whl (11 kB)\n",
            "Requirement already satisfied: packaging>=20.0 in /usr/local/lib/python3.7/dist-packages (from optuna) (21.3)\n",
            "Requirement already satisfied: scipy!=1.4.0 in /usr/local/lib/python3.7/dist-packages (from optuna) (1.4.1)\n",
            "Requirement already satisfied: sqlalchemy>=1.1.0 in /usr/local/lib/python3.7/dist-packages (from optuna) (1.4.27)\n",
            "Requirement already satisfied: tqdm in /usr/local/lib/python3.7/dist-packages (from optuna) (4.62.3)\n",
            "Requirement already satisfied: numpy in /usr/local/lib/python3.7/dist-packages (from optuna) (1.21.4)\n",
            "Requirement already satisfied: PyYAML in /usr/local/lib/python3.7/dist-packages (from optuna) (3.13)\n",
            "Collecting cmaes>=0.8.2\n",
            "  Downloading cmaes-0.8.2-py3-none-any.whl (15 kB)\n",
            "Collecting alembic\n",
            "  Downloading alembic-1.7.5-py3-none-any.whl (209 kB)\n",
            "\u001b[K     |████████████████████████████████| 209 kB 58.5 MB/s \n",
            "\u001b[?25hRequirement already satisfied: pyparsing!=3.0.5,>=2.0.2 in /usr/local/lib/python3.7/dist-packages (from packaging>=20.0->optuna) (3.0.6)\n",
            "Requirement already satisfied: greenlet!=0.4.17 in /usr/local/lib/python3.7/dist-packages (from sqlalchemy>=1.1.0->optuna) (1.1.2)\n",
            "Requirement already satisfied: importlib-metadata in /usr/local/lib/python3.7/dist-packages (from sqlalchemy>=1.1.0->optuna) (4.8.2)\n",
            "Requirement already satisfied: importlib-resources in /usr/local/lib/python3.7/dist-packages (from alembic->optuna) (5.4.0)\n",
            "Collecting Mako\n",
            "  Downloading Mako-1.1.6-py2.py3-none-any.whl (75 kB)\n",
            "\u001b[K     |████████████████████████████████| 75 kB 4.7 MB/s \n",
            "\u001b[?25hCollecting stevedore>=2.0.1\n",
            "  Downloading stevedore-3.5.0-py3-none-any.whl (49 kB)\n",
            "\u001b[K     |████████████████████████████████| 49 kB 6.1 MB/s \n",
            "\u001b[?25hCollecting cmd2>=1.0.0\n",
            "  Downloading cmd2-2.3.3-py3-none-any.whl (149 kB)\n",
            "\u001b[K     |████████████████████████████████| 149 kB 61.8 MB/s \n",
            "\u001b[?25hCollecting autopage>=0.4.0\n",
            "  Downloading autopage-0.4.0-py3-none-any.whl (20 kB)\n",
            "Collecting pbr!=2.1.0,>=2.0.0\n",
            "  Downloading pbr-5.8.0-py2.py3-none-any.whl (112 kB)\n",
            "\u001b[K     |████████████████████████████████| 112 kB 60.2 MB/s \n",
            "\u001b[?25hRequirement already satisfied: PrettyTable>=0.7.2 in /usr/local/lib/python3.7/dist-packages (from cliff->optuna) (2.4.0)\n",
            "Requirement already satisfied: wcwidth>=0.1.7 in /usr/local/lib/python3.7/dist-packages (from cmd2>=1.0.0->cliff->optuna) (0.2.5)\n",
            "Collecting pyperclip>=1.6\n",
            "  Downloading pyperclip-1.8.2.tar.gz (20 kB)\n",
            "Requirement already satisfied: attrs>=16.3.0 in /usr/local/lib/python3.7/dist-packages (from cmd2>=1.0.0->cliff->optuna) (21.2.0)\n",
            "Requirement already satisfied: typing-extensions in /usr/local/lib/python3.7/dist-packages (from cmd2>=1.0.0->cliff->optuna) (3.10.0.2)\n",
            "Requirement already satisfied: zipp>=0.5 in /usr/local/lib/python3.7/dist-packages (from importlib-metadata->sqlalchemy>=1.1.0->optuna) (3.6.0)\n",
            "Requirement already satisfied: MarkupSafe>=0.9.2 in /usr/local/lib/python3.7/dist-packages (from Mako->alembic->optuna) (2.0.1)\n",
            "Building wheels for collected packages: pyperclip\n",
            "  Building wheel for pyperclip (setup.py) ... \u001b[?25l\u001b[?25hdone\n",
            "  Created wheel for pyperclip: filename=pyperclip-1.8.2-py3-none-any.whl size=11136 sha256=6c6e89b19b7d81ef8d8e361767a66cff791cf8204caf5a3ef9a19dc7f65bd269\n",
            "  Stored in directory: /root/.cache/pip/wheels/9f/18/84/8f69f8b08169c7bae2dde6bd7daf0c19fca8c8e500ee620a28\n",
            "Successfully built pyperclip\n",
            "Installing collected packages: pyperclip, pbr, stevedore, Mako, cmd2, autopage, colorlog, cmaes, cliff, alembic, optuna\n",
            "Successfully installed Mako-1.1.6 alembic-1.7.5 autopage-0.4.0 cliff-3.10.0 cmaes-0.8.2 cmd2-2.3.3 colorlog-6.6.0 optuna-2.10.0 pbr-5.8.0 pyperclip-1.8.2 stevedore-3.5.0\n"
          ]
        }
      ]
    },
    {
      "cell_type": "code",
      "metadata": {
        "colab": {
          "base_uri": "https://localhost:8080/"
        },
        "id": "_vApyQvc00FA",
        "outputId": "4352f21b-84c6-48fb-c75f-151b410fcc07"
      },
      "source": [
        "from google.colab import drive\n",
        "drive.mount(\"/content/gdrive\")"
      ],
      "execution_count": 2,
      "outputs": [
        {
          "output_type": "stream",
          "name": "stdout",
          "text": [
            "Mounted at /content/gdrive\n"
          ]
        }
      ]
    },
    {
      "cell_type": "code",
      "metadata": {
        "colab": {
          "base_uri": "https://localhost:8080/"
        },
        "id": "ngA6O4xg2QMj",
        "outputId": "833489e7-5fbf-46d9-b0f3-43d60051ceda"
      },
      "source": [
        "import numpy as np\n",
        "\n",
        "# Ανάγνωση του αρχείου σε numpy array\n",
        "\n",
        "f = open('/content/gdrive/My Drive/Neural Networks/plrx.txt', 'r')\n",
        "lines =f.readlines()\n",
        "y_train = []\n",
        "x_train = []\n",
        "\n",
        "\n",
        "for line in lines:\n",
        "  words = line.split()\n",
        "  y_train.append(float(words[12]))\n",
        "  x_train.append([float(x) for x in words[:12]])\n",
        "\n",
        "X_train = np.array(x_train)\n",
        "Y_train = np.array(y_train)\n",
        "\n",
        "print(f'Το shape του συνολικού dataset (χωρίς τα labels) είναι {X_train.shape}.')\n",
        "\n",
        "class_count = np.bincount(Y_train.astype(int))\n",
        "print(f'Η κλάση 1 περιέχει {class_count[1]} στοιχεία, και η κλάση 2 περιέχει {class_count[2]} στοιχεία.')"
      ],
      "execution_count": 5,
      "outputs": [
        {
          "output_type": "stream",
          "name": "stdout",
          "text": [
            "Το shape του συνολικού dataset (χωρίς τα labels) είναι (182, 12).\n",
            "Η κλάση 1 περιέχει 130 στοιχεία, και η κλάση 2 περιέχει 52 στοιχεία.\n"
          ]
        }
      ]
    },
    {
      "cell_type": "code",
      "metadata": {
        "colab": {
          "base_uri": "https://localhost:8080/"
        },
        "id": "xW17YlTB5LhW",
        "outputId": "11f05ec6-c829-4d19-969f-a8241c2b58bb"
      },
      "source": [
        "from sklearn.model_selection import train_test_split\n",
        "\n",
        "x_train, x_test, y_train, y_test = train_test_split(X_train, Y_train, test_size=0.30)\n",
        "\n",
        "print(f'Το shape του train set είναι {x_train.shape}.')\n",
        "print(f'Το shape του test set είναι {x_test.shape}.')"
      ],
      "execution_count": 6,
      "outputs": [
        {
          "output_type": "stream",
          "name": "stdout",
          "text": [
            "Το shape του train set είναι (127, 12).\n",
            "Το shape του test set είναι (55, 12).\n"
          ]
        }
      ]
    },
    {
      "cell_type": "code",
      "metadata": {
        "id": "Yc5P7SM_F--u"
      },
      "source": [
        "#Συνάρτηση που φτιάχνει τους πίνακες σύγχυσης\n",
        "import numpy as np\n",
        "import matplotlib.pyplot as plt\n",
        "import seaborn as sns\n",
        "\n",
        "def make_confusion_matrix(cf,\n",
        "                          group_names=None,\n",
        "                          categories='auto',\n",
        "                          count=True,\n",
        "                          percent=True,\n",
        "                          cbar=True,\n",
        "                          xyticks=True,\n",
        "                          xyplotlabels=True,\n",
        "                          sum_stats=True,\n",
        "                          figsize=None,\n",
        "                          cmap='Blues',\n",
        "                          title=None):\n",
        "    '''\n",
        "    This function will make a pretty plot of an sklearn Confusion Matrix cm using a Seaborn heatmap visualization.\n",
        "    Arguments\n",
        "    ---------\n",
        "    cf:            confusion matrix to be passed in\n",
        "    group_names:   List of strings that represent the labels row by row to be shown in each square.\n",
        "    categories:    List of strings containing the categories to be displayed on the x,y axis. Default is 'auto'\n",
        "    count:         If True, show the raw number in the confusion matrix. Default is True.\n",
        "    normalize:     If True, show the proportions for each category. Default is True.\n",
        "    cbar:          If True, show the color bar. The cbar values are based off the values in the confusion matrix.\n",
        "                   Default is True.\n",
        "    xyticks:       If True, show x and y ticks. Default is True.\n",
        "    xyplotlabels:  If True, show 'True Label' and 'Predicted Label' on the figure. Default is True.\n",
        "    sum_stats:     If True, display summary statistics below the figure. Default is True.\n",
        "    figsize:       Tuple representing the figure size. Default will be the matplotlib rcParams value.\n",
        "    cmap:          Colormap of the values displayed from matplotlib.pyplot.cm. Default is 'Blues'\n",
        "                   See http://matplotlib.org/examples/color/colormaps_reference.html\n",
        "                   \n",
        "    title:         Title for the heatmap. Default is None.\n",
        "    '''\n",
        "\n",
        "\n",
        "    # CODE TO GENERATE TEXT INSIDE EACH SQUARE\n",
        "    blanks = ['' for i in range(cf.size)]\n",
        "\n",
        "    if group_names and len(group_names)==cf.size:\n",
        "        group_labels = [\"{}\\n\".format(value) for value in group_names]\n",
        "    else:\n",
        "        group_labels = blanks\n",
        "\n",
        "    if count:\n",
        "        group_counts = [\"{0:0.0f}\\n\".format(value) for value in cf.flatten()]\n",
        "    else:\n",
        "        group_counts = blanks\n",
        "\n",
        "    if percent:\n",
        "        group_percentages = [\"{0:.2%}\".format(value) for value in cf.flatten()/np.sum(cf)]\n",
        "    else:\n",
        "        group_percentages = blanks\n",
        "\n",
        "    box_labels = [f\"{v1}{v2}{v3}\".strip() for v1, v2, v3 in zip(group_labels,group_counts,group_percentages)]\n",
        "    box_labels = np.asarray(box_labels).reshape(cf.shape[0],cf.shape[1])\n",
        "\n",
        "\n",
        "    # CODE TO GENERATE SUMMARY STATISTICS & TEXT FOR SUMMARY STATS\n",
        "    if sum_stats:\n",
        "        #Accuracy is sum of diagonal divided by total observations\n",
        "        accuracy  = np.trace(cf) / float(np.sum(cf))\n",
        "\n",
        "        #if it is a binary confusion matrix, show some more stats\n",
        "\n",
        "\n",
        "\n",
        "        stats_text = \"\\n\\nAccuracy={:0.3f}\".format(accuracy)\n",
        "    else:\n",
        "        stats_text = \"\"\n",
        "\n",
        "\n",
        "    # SET FIGURE PARAMETERS ACCORDING TO OTHER ARGUMENTS\n",
        "    if figsize==None:\n",
        "        #Get default figure size if not set\n",
        "        figsize = plt.rcParams.get('figure.figsize')\n",
        "\n",
        "    if xyticks==False:\n",
        "        #Do not show categories if xyticks is False\n",
        "        categories=False\n",
        "\n",
        "\n",
        "    # MAKE THE HEATMAP VISUALIZATION\n",
        "    plt.figure(figsize=figsize)\n",
        "    sns.heatmap(cf,annot=box_labels,fmt=\"\",cmap=cmap,cbar=cbar,xticklabels=categories,yticklabels=categories)\n",
        "\n",
        "    if xyplotlabels:\n",
        "        plt.ylabel('True label')\n",
        "        plt.xlabel('Predicted label' + stats_text)\n",
        "    else:\n",
        "        plt.xlabel(stats_text)\n",
        "    \n",
        "    if title:\n",
        "        plt.title(title)"
      ],
      "execution_count": null,
      "outputs": []
    },
    {
      "cell_type": "markdown",
      "metadata": {
        "id": "4Qqh2HPUvURM"
      },
      "source": [
        "#Dummy\n",
        "\n",
        "---\n",
        "\n"
      ]
    },
    {
      "cell_type": "markdown",
      "metadata": {
        "id": "iaREbMWtvh85"
      },
      "source": [
        "<h1>Out of the box metrics</h1>\n",
        "\n",
        "Παρακάτω υλοποιούμε δύο Dummy Classisifiers. <br>\n",
        "Ο πρώτος έχει στρατηγική υλοποίησης most_frequent, που σημαίνει ότι προβλέπει πάντα την πιο συχνή κλάση που του δόθηκε στα train δεδομένα, δηλαδή στην περίπτωσή μας θα προβλέπει την κλάση 1. <br>\n",
        "Ο δέυτερος έχει στρατηγική υλοποίησης stratified, που σημαίνει ότι προβλέπει τις κλάσεις με την κατανομή που δίνονται στα train δεδομένα, δηλαδή αφού τα δεδομένα που μας έχουν δοθεί χωρίζονται περίπου κατά 70% στην κλάση 1 και 30% στην κλάση 2, περιμένουμε αυτός ο classifier να προβλέπει κοντά στα 70% των περιπτώσεων την κλάση 1 και κοντά στα 30% των περιτώσεων την κλάση 2.<br>\n",
        "Παρακάτω βλέπουμε τα accuracy και τα f1 scores των δύο dummy classifiers."
      ]
    },
    {
      "cell_type": "code",
      "metadata": {
        "colab": {
          "base_uri": "https://localhost:8080/"
        },
        "id": "TJTjXm6_vWvw",
        "outputId": "c2e97065-e2c7-409c-dbd4-1f52ef1cde8f"
      },
      "source": [
        "from sklearn.dummy import DummyClassifier\n",
        "from sklearn.metrics import f1_score, accuracy_score\n",
        "from sklearn.model_selection import KFold\n",
        "\n",
        "from sklearn.model_selection import cross_val_score\n",
        "\n",
        "dummy_freq = DummyClassifier(strategy=\"most_frequent\")\n",
        "dummy_freq.fit(x_train, y_train)\n",
        "preds = dummy_freq.predict(x_test)\n",
        "\n",
        "print(\"Dummy Classifier with most_frequent strategy scores:\")\n",
        "print(\"F1: {}\".format(f1_score(preds, y_test)))\n",
        "print(\"Accuracy: {}\".format(accuracy_score(preds, y_test)))\n",
        "\n",
        "print(\"Dummy Classifier with stratified strategy scores:\")\n",
        "\n",
        "dummy_str = DummyClassifier(strategy=\"stratified\")\n",
        "dummy_str.fit(x_train, y_train)\n",
        "preds = dummy_str.predict(x_test)\n",
        "\n",
        "print(\"F1: {}\".format(f1_score(preds, y_test)))\n",
        "print(\"Accuracy: {}\".format(accuracy_score(preds, y_test)))"
      ],
      "execution_count": null,
      "outputs": [
        {
          "output_type": "stream",
          "name": "stdout",
          "text": [
            "Dummy Classifier with most_frequent strategy scores:\n",
            "F1: 0.8421052631578948\n",
            "Accuracy: 0.7272727272727273\n",
            "Dummy Classifier with stratified strategy scores:\n",
            "F1: 0.6111111111111112\n",
            "Accuracy: 0.4909090909090909\n"
          ]
        }
      ]
    },
    {
      "cell_type": "markdown",
      "metadata": {
        "id": "8W8F5wXbwPxN"
      },
      "source": [
        "Όπως φαίνεται, επειδή το dataset είναι πολύ imbalanced, το να προβλέπει ο ταξινομητής απλά την κλάση 1 δίνει καλύτερα αποτελέσματα από το να προσπαθεί να προβλέψει με βάση την κατανομή των κλάσεων 1 και 2. "
      ]
    },
    {
      "cell_type": "markdown",
      "metadata": {
        "id": "mh-yDnQIww6E"
      },
      "source": [
        "<h1>Pipelines με τους Classifiers</h1>\n",
        "Παρακάτω κατασκευάζουμε διάφορα Pipelines με στρώματα για feature selection, scaling, oversampling, dimensionality reduction για τους dummy classifiers. Eφαρμόζουμε τον αλγόριθμο GridSearch ώστε να βελτιστοποιήσουμε την επίδοση των classifiers ρυθμίζοντας κατάλληλα τις παραμέτρους τους. Πάντα το accuracy και το f1 score υπολογίζεται με 10-fold cross-validation. "
      ]
    },
    {
      "cell_type": "code",
      "metadata": {
        "id": "qmEYyjd1wPd0"
      },
      "source": [
        "#from sklearn.pipeline import Pipeline\n",
        "from imblearn.pipeline import Pipeline\n",
        "from sklearn.feature_selection import VarianceThreshold\n",
        "from sklearn.preprocessing import StandardScaler, MinMaxScaler # φέρνουμε τον StandarScaler ως transformer που έχει .transform kai ΄όχι ως scale()\n",
        "from imblearn.over_sampling import RandomOverSampler\n",
        "from sklearn.decomposition import PCA\n",
        "from sklearn.metrics import classification_report\n",
        "from sklearn.neighbors import KNeighborsClassifier\n",
        "\n",
        "from sklearn.model_selection import GridSearchCV\n",
        "from imblearn.over_sampling import SMOTE\n",
        "\n",
        "from sklearn.exceptions import FitFailedWarning\n",
        "# import warnings filter\n",
        "from warnings import simplefilter\n",
        "# ignore all future warnings\n",
        "simplefilter(action='ignore', category=FitFailedWarning)\n",
        "simplefilter(action='ignore', category=UserWarning)\n",
        "\n",
        "selector = VarianceThreshold()\n",
        "scaler = StandardScaler()\n",
        "mmscaler = MinMaxScaler()\n",
        "ros = RandomOverSampler()\n",
        "pca = PCA()\n",
        "sm = SMOTE()"
      ],
      "execution_count": null,
      "outputs": []
    },
    {
      "cell_type": "markdown",
      "metadata": {
        "id": "CE-oIYmOxJqp"
      },
      "source": [
        "Στο παρακάτω block κατασκευάζεται pipeline με Dummy Classifier με most_frequent strategy."
      ]
    },
    {
      "cell_type": "code",
      "metadata": {
        "colab": {
          "base_uri": "https://localhost:8080/"
        },
        "id": "FgXEBd5CvXQJ",
        "outputId": "0a959d9a-2a8c-4c6e-d5bf-4589483f0d04"
      },
      "source": [
        "dummy = DummyClassifier(strategy='most_frequent')\n",
        "pipe = Pipeline(steps=[('selector', selector), ('scaler', scaler), ('sm', sm), ('pca', pca), ('dummy', dummy)])\n",
        "\n",
        "\n",
        "pipe.fit(x_train,y_train)\n",
        "preds = pipe.predict(x_test)\n",
        "#print(classification_report(Y_test, preds))\n",
        "\n",
        "vthreshold = [0, 0.01, 0.05, 0.1]\n",
        "n_components = list(range(2, 14, 2))\n",
        "sampling_strategy = [0.7, 0.8, 0.9, 0.95, 1.0]\n",
        "\n",
        "estimator = GridSearchCV(pipe, dict(selector__threshold=vthreshold, pca__n_components=n_components), cv=10, scoring='f1', n_jobs=-1)\n",
        "\n",
        "import time\n",
        "\n",
        "start_time = time.time()\n",
        "estimator.fit(x_train, y_train)\n",
        "pipe = Pipeline(steps=[('selector', selector), ('scaler', scaler), ('sm', sm), ('pca', pca), ('dummy', dummy)])\n",
        "pipe.set_params(**estimator.best_params_)\n",
        "start_time = time.time()\n",
        "pipe.fit(x_train, y_train)\n",
        "print(\"Συνολικός χρόνος fit: %s seconds\" % (time.time() - start_time))\n",
        "\n",
        "start_time = time.time()\n",
        "preds = pipe.predict(x_test)\n",
        "print(\"Συνολικός χρόνος predict: %s seconds\" % (time.time() - start_time))\n",
        "\n",
        "\n",
        "print(classification_report(y_test, preds))\n",
        "print(estimator.best_params_)"
      ],
      "execution_count": null,
      "outputs": [
        {
          "output_type": "stream",
          "name": "stdout",
          "text": [
            "Συνολικός χρόνος fit: 0.003062725067138672 seconds\n",
            "Συνολικός χρόνος predict: 0.0005033016204833984 seconds\n",
            "              precision    recall  f1-score   support\n",
            "\n",
            "         1.0       0.73      1.00      0.84        40\n",
            "         2.0       0.00      0.00      0.00        15\n",
            "\n",
            "    accuracy                           0.73        55\n",
            "   macro avg       0.36      0.50      0.42        55\n",
            "weighted avg       0.53      0.73      0.61        55\n",
            "\n",
            "{'pca__n_components': 2, 'selector__threshold': 0}\n"
          ]
        }
      ]
    },
    {
      "cell_type": "markdown",
      "metadata": {
        "id": "X7_J4uQcZG9B"
      },
      "source": [
        "Παρατηρούμε ότι ο Dummy Classifier με strategy most_frequent παρουσιάζει τα ίδια αποτελέσματα και οι μηδενικές τιμές που δείχνει το classification report δείχνει ότι η κλάση 2 δεν προβλέπεται καθόλου, όπως συνέβαινε και προηγουμένως. Πράγματι, είτε έχουμε για παράδειγμα oversampling είτε όχι, η συμπεριφορά και άρα το accuracy του classifier θα είναι το ίδιο.<br>\n",
        "Παρακάτω φτιάχνουμε ένα pipeline με έναν Dummy Classifier με stratified strategy."
      ]
    },
    {
      "cell_type": "code",
      "metadata": {
        "colab": {
          "base_uri": "https://localhost:8080/"
        },
        "id": "MBec-tyfvXL-",
        "outputId": "6cf788c1-0fed-40f2-dc84-aebc7a0cf7f8"
      },
      "source": [
        "dummy = DummyClassifier(strategy='stratified')\n",
        "pipe = Pipeline(steps=[('selector', selector), ('scaler', scaler), ('ros', ros), ('pca', pca), ('dummy', dummy)])\n",
        "\n",
        "estimator = GridSearchCV(pipe, dict(selector__threshold=vthreshold, pca__n_components=n_components, ros__sampling_strategy = sampling_strategy), cv=10, scoring='f1', n_jobs=-1)\n",
        "\n",
        "import time\n",
        "\n",
        "start_time = time.time()\n",
        "estimator.fit(X_train, Y_train)\n",
        "\n",
        "pipe = Pipeline(steps=[('selector', selector), ('scaler', scaler), ('ros', ros), ('pca', pca), ('dummy', dummy)])\n",
        "pipe.set_params(**estimator.best_params_)\n",
        "start_time = time.time()\n",
        "pipe.fit(x_train, y_train)\n",
        "print(\"Συνολικός χρόνος fit: %s seconds\" % (time.time() - start_time))\n",
        "\n",
        "start_time = time.time()\n",
        "preds = pipe.predict(x_test)\n",
        "print(\"Συνολικός χρόνος predict: %s seconds\" % (time.time() - start_time))\n",
        "print(classification_report(y_test, preds))\n",
        "\n",
        "print(estimator.best_params_)"
      ],
      "execution_count": null,
      "outputs": [
        {
          "name": "stdout",
          "output_type": "stream",
          "text": [
            "Συνολικός χρόνος fit: 0.0024805068969726562 seconds\n",
            "Συνολικός χρόνος predict: 0.0006513595581054688 seconds\n",
            "              precision    recall  f1-score   support\n",
            "\n",
            "         1.0       0.76      0.61      0.68        41\n",
            "         2.0       0.27      0.43      0.33        14\n",
            "\n",
            "    accuracy                           0.56        55\n",
            "   macro avg       0.52      0.52      0.50        55\n",
            "weighted avg       0.63      0.56      0.59        55\n",
            "\n",
            "{'pca__n_components': 6, 'ros__sampling_strategy': 0.8, 'selector__threshold': 0.01}\n"
          ]
        }
      ]
    },
    {
      "cell_type": "markdown",
      "metadata": {
        "id": "sQD_3YKuZYJ8"
      },
      "source": [
        "Ύστερa από πολλές δοκιμές με διάφορες τιμές των υπερπαραμέτρων για τη μείωση διαστάσεων, το oversampling και το variance threshold selection, καταλήξαμε στο ότι δεν υπάρχει κάποια βελτίωση στο accuracy του Dummy Classifier με stratified strategy και αν υπάρχει σε κάποια δοκιμή, αυτό θα οφείλεται στην τυχαιότητα. Αν και φαίνεται ότι τις περισσότερες φορές προτιμάται το oversampling στο οποίο το πλήθος των δειγμάτων της κλάσης 2 θα είναι το 80% του πλήθους των δειγμάτων της κλάσης 1, δεν υπάρχει κάποια ξεκάθαρη βελτίωση. Ο Dummy Classifier, επειδή προσπαθεί να \"μαντέψει\" την κλάση στην οποία ανήκει ένα αντικείμενο του dataset με βάση την κατανομή, δεν αλλάζει συμπεριφορά όσο αλλάζουμε τις παραμέτρους και έτσι άλλοτε μαντέυει με μεγαλύτερη επιτυχία καινάλλοτε με μικρότερη, χωρίς όμως να παρουσιάζει πολύ διαφορετικά accuracies από τον classifier που είναι out-of-the-box.<br>\n"
      ]
    },
    {
      "cell_type": "markdown",
      "metadata": {
        "id": "xhOP6xDoa5M1"
      },
      "source": [
        "#Logistic Regression\n",
        "\n",
        "---\n",
        "\n"
      ]
    },
    {
      "cell_type": "markdown",
      "metadata": {
        "id": "uejgwHHID3f5"
      },
      "source": [
        "O logistic regression classifier αποτελεί μια επέκταση του linear regression. Υπολογίζεται το g(x) = w.T * x + w0 για κάθε δείγμα x και περνιέται στην συνάρτηση softmax η οποία έχει ως έξοδο πιθανότητες. "
      ]
    },
    {
      "cell_type": "markdown",
      "metadata": {
        "id": "wig3ahU6a-D2"
      },
      "source": [
        "Στο παρακάτω κελί φτιάχνουμε έναν out of the box Logistic Regressor Classifier και παρατηρούμε τα αποτελέσματά του.\n",
        "\n"
      ]
    },
    {
      "cell_type": "code",
      "metadata": {
        "id": "mFfjVJfNHM3m"
      },
      "source": [
        "from sklearn.metrics import f1_score, accuracy_score\n",
        "from sklearn.model_selection import GridSearchCV\n"
      ],
      "execution_count": null,
      "outputs": []
    },
    {
      "cell_type": "code",
      "metadata": {
        "colab": {
          "base_uri": "https://localhost:8080/"
        },
        "id": "CaL7wjxbbRTq",
        "outputId": "06b780cb-6aed-481c-d335-865e666f6162"
      },
      "source": [
        "from sklearn.linear_model import LogisticRegression\n",
        "\n",
        "logistic = LogisticRegression()\n",
        "logistic.fit(x_train, y_train)\n",
        "preds = logistic.predict(x_test)\n",
        "\n",
        "print(\"F1: {}\".format(f1_score(preds, y_test)))\n",
        "print(\"Accuracy: {}\".format(accuracy_score(preds, y_test)))"
      ],
      "execution_count": null,
      "outputs": [
        {
          "output_type": "stream",
          "name": "stdout",
          "text": [
            "F1: 0.8421052631578948\n",
            "Accuracy: 0.7272727272727273\n"
          ]
        }
      ]
    },
    {
      "cell_type": "markdown",
      "metadata": {
        "id": "iyBo5HUzbq6T"
      },
      "source": [
        "Παρατηρούμε ότι ο classifier δίνει τα ίδια αποτελέσματα με τον DummyClassifier με τη most_frequent στρατηγική."
      ]
    },
    {
      "cell_type": "markdown",
      "metadata": {
        "id": "FISqv25Jb7Xe"
      },
      "source": [
        "Παρακάτω υλοποιούμε κάποια Pipelines για τον LogisticRegression Classifier. Επιλέγουμε αυτή την φορά τον RandomOverSampler, διότι το σύνολο των δεδομένων μας είναι πολύ μικρό ώστε ο SMOTE να δημιουργήσει καλά δείγματα."
      ]
    },
    {
      "cell_type": "markdown",
      "metadata": {
        "id": "FcrVkLSEKUfb"
      },
      "source": [
        "Βελτιστοποιούμε ως προς accuracy:"
      ]
    },
    {
      "cell_type": "code",
      "metadata": {
        "id": "C3a1u3oDb_BA"
      },
      "source": [
        "lr_c = [0.01, 0.25, 0.5, 1.0, 1.5, 2.0]\n",
        "\n",
        "lr = LogisticRegression()\n",
        "\n",
        "pipe = Pipeline(steps=[('selector', selector), ('scaler', mmscaler), ('ros', ros), ('pca', pca), ('lr', lr)])\n",
        "\n",
        "estimator = GridSearchCV(pipe, dict(selector__threshold = vthreshold, ros__sampling_strategy = sampling_strategy,\n",
        "                                    pca__n_components = n_components, lr__C = lr_c), cv=10, scoring='accuracy', n_jobs=-1)"
      ],
      "execution_count": null,
      "outputs": []
    },
    {
      "cell_type": "code",
      "metadata": {
        "colab": {
          "base_uri": "https://localhost:8080/"
        },
        "id": "8r7jhrTFGfdG",
        "outputId": "c6d8a598-141d-4c99-ab83-3736714295d4"
      },
      "source": [
        "estimator.fit(x_train, y_train)\n",
        "\n",
        "pipe = Pipeline(steps=[('selector', selector), ('scaler', mmscaler), ('ros', ros), ('pca', pca), ('lr', lr)])\n",
        "pipe.set_params(**estimator.best_params_)\n",
        "start_time = time.time()\n",
        "pipe.fit(x_train, y_train)\n",
        "print(\"Συνολικός χρόνος fit: %s seconds\" % (time.time() - start_time))\n",
        "\n",
        "preds = pipe.predict(x_test)\n",
        "\n",
        "print(set(y_test) - set(preds))\n",
        "print(\"Συνολικός χρόνος fit και predict: %s seconds\" % (time.time() - start_time))\n",
        "print(classification_report(y_test, preds))\n",
        "\n",
        "print(estimator.best_params_)"
      ],
      "execution_count": null,
      "outputs": [
        {
          "output_type": "stream",
          "name": "stdout",
          "text": [
            "Συνολικός χρόνος fit: 0.006856203079223633 seconds\n",
            "{2.0}\n",
            "Συνολικός χρόνος fit και predict: 0.008731842041015625 seconds\n",
            "              precision    recall  f1-score   support\n",
            "\n",
            "         1.0       0.73      1.00      0.84        40\n",
            "         2.0       0.00      0.00      0.00        15\n",
            "\n",
            "    accuracy                           0.73        55\n",
            "   macro avg       0.36      0.50      0.42        55\n",
            "weighted avg       0.53      0.73      0.61        55\n",
            "\n",
            "{'lr__C': 0.5, 'pca__n_components': 4, 'ros__sampling_strategy': 0.7, 'selector__threshold': 0.01}\n"
          ]
        }
      ]
    },
    {
      "cell_type": "markdown",
      "metadata": {
        "id": "UEaxQat-KZCD"
      },
      "source": [
        "Βελτιστοποιούμε ως προς f1:"
      ]
    },
    {
      "cell_type": "code",
      "metadata": {
        "id": "9kqf6nnZGdZA"
      },
      "source": [
        "lr_c = [0.01, 0.25, 0.5, 1.0, 1.5, 2.0]\n",
        "\n",
        "lr = LogisticRegression()\n",
        "\n",
        "pipe = Pipeline(steps=[('selector', selector), ('scaler', mmscaler), ('ros', ros), ('pca', pca), ('lr', lr)])\n",
        "\n",
        "estimator = GridSearchCV(pipe, dict(selector__threshold = vthreshold, ros__sampling_strategy = sampling_strategy,\n",
        "                                    pca__n_components = n_components, lr__C = lr_c), cv=10, scoring='f1', n_jobs=-1)"
      ],
      "execution_count": null,
      "outputs": []
    },
    {
      "cell_type": "code",
      "metadata": {
        "colab": {
          "base_uri": "https://localhost:8080/"
        },
        "id": "FgkG5Yrsb-27",
        "outputId": "4ce283a6-2591-400e-9e72-fc86474025eb"
      },
      "source": [
        "estimator.fit(x_train, y_train)\n",
        "\n",
        "pipe = Pipeline(steps=[('selector', selector), ('scaler', mmscaler), ('ros', ros), ('pca', pca), ('lr', lr)])\n",
        "pipe.set_params(**estimator.best_params_)\n",
        "start_time = time.time()\n",
        "pipe.fit(x_train, y_train)\n",
        "print(\"Συνολικός χρόνος fit: %s seconds\" % (time.time() - start_time))\n",
        "\n",
        "preds = pipe.predict(x_test)\n",
        "\n",
        "print(set(y_test) - set(preds))\n",
        "print(\"Συνολικός χρόνος fit και predict: %s seconds\" % (time.time() - start_time))\n",
        "print(classification_report(y_test, preds))\n",
        "\n",
        "print(estimator.best_params_)"
      ],
      "execution_count": null,
      "outputs": [
        {
          "output_type": "stream",
          "name": "stdout",
          "text": [
            "Συνολικός χρόνος fit: 0.004147529602050781 seconds\n",
            "{2.0}\n",
            "Συνολικός χρόνος fit και predict: 0.005957365036010742 seconds\n",
            "              precision    recall  f1-score   support\n",
            "\n",
            "         1.0       0.73      1.00      0.84        40\n",
            "         2.0       0.00      0.00      0.00        15\n",
            "\n",
            "    accuracy                           0.73        55\n",
            "   macro avg       0.36      0.50      0.42        55\n",
            "weighted avg       0.53      0.73      0.61        55\n",
            "\n",
            "{'lr__C': 1.0, 'pca__n_components': 2, 'ros__sampling_strategy': 0.7, 'selector__threshold': 0.01}\n"
          ]
        }
      ]
    },
    {
      "cell_type": "markdown",
      "metadata": {
        "id": "9_U6U17ydJnO"
      },
      "source": [
        "Φαίνεται ότι το καλύτερο που μπορεί να πετύχει ο LogisticRegressionClassifier είναι απλώς να μαντεύει συνεχώς την κλάση 1 (τα μηδενικά στην κλάση 2 υποδηλώνουν ότι δεν προβλέπεται ποτέ η κλάση 2), δηλαδή έχει την ίδια συμπεριφορά με τον DummyClassifier. <br>\n",
        "Μετά από πολλές δοκιμές έχουμε κατά πρώτον το συμπέρασμα ότι δεν έχει σημασία στο τελικό αποτέλεσμα αν θα χρησιμοποιήσουμε Standard Scaler ή MinMaxScaler.\n",
        "<br>Επίσης, δοκιμάζοντας με oversampling τέτοιο ώστε το πλήθος των δειγμάτων των δύο κλάσεων να είναι ίδιο (strategy = 1.0), το Pipeline πετυχαίνει χαμηλά accuracies, της τάξεως των 0.4, γεγονός που οφείλεται στο γεγονός ότι τα δεδομένα στο dataset είναι πολύ λίγα και δεν είναι γραμμικά διαχωρίσιμα. <br>\n",
        "Αντιθέτως, με καθόλου oversampling, το dataset είναι τόσο imbalanced που ο LogisticRegression Classifier προβλέπει συνεχώς την κλάση 1. Ο λόγος που βλέπουμε αυτή την συμπεριφορά και για oversampling με strategy = 0.7 είναι ότι αυτό το strategy δεν έχει μεγάλη διαφορά με το να μην έχουμε oversampling, αφού το πλήθος των δειγμάτων της κλάσης 2 είναι κοντά στο 70% του πλήθους των δειγμάτων της κλάσης 1.<br>\n",
        "Συμπερασματικά, επειδή το dataset είναι μικρό και πολύ imbalanced, ο Logistic Regression Classifier δεν είναι κατάλληλος για το συγκεκριμένο πρόβλημα classification."
      ]
    },
    {
      "cell_type": "markdown",
      "metadata": {
        "id": "K6UPQPSJfk3U"
      },
      "source": [
        "Παρακάτω φαίνεται ότι αν στο σύνολο των δεδομένων εφαρμοστεί ο PCA και κρατηθούν δύο διαστάσεις, όπως προκύπτει ότι είναι βέλτιστο από το GridSearch, τότε τα δεδομένα είναι μη γραμμικά διαχωρίσιμα και φαίνεται ότι δεν υπάρχουν περιοχές απόφασης και πάντα εκτιμάται η κλάση 1."
      ]
    },
    {
      "cell_type": "code",
      "metadata": {
        "colab": {
          "base_uri": "https://localhost:8080/",
          "height": 844
        },
        "id": "TsoLDNnYdiCq",
        "outputId": "243d219f-c209-4a1a-e934-326e11e1e738"
      },
      "source": [
        "import numpy as np\n",
        "import matplotlib.pyplot as plt\n",
        "from matplotlib.colors import ListedColormap, LinearSegmentedColormap\n",
        "\n",
        "def plot_clf(clf, X, y, labels):\n",
        "    fig, ax = plt.subplots(figsize=(20,20))\n",
        "    # title for the plots\n",
        "    title = ('Decision surface of Classifier')\n",
        "    # Set-up grid for plotting.\n",
        "    X0, X1 = X[:, 0], X[:, 1]\n",
        "    \n",
        "    x_min, x_max = X0.min() - 1, X0.max() + 1\n",
        "    y_min, y_max = X1.min() - 1, X1.max() + 1\n",
        "    xx, yy = np.meshgrid(np.arange(x_min, x_max, .05),\n",
        "                         np.arange(y_min, y_max, .05))\n",
        "    \n",
        "    Z = clf.predict(np.c_[xx.ravel(), yy.ravel()])\n",
        "    Z = Z.reshape(xx.shape)\n",
        "\n",
        "    colours = (['red', 'blue'])\n",
        "    n_bins = [0.9, 1.9]\n",
        "    out = ax.contourf(xx, yy, Z, levels = n_bins, alpha=0.8, colors = colours)\n",
        "    \n",
        "    ones = ax.scatter(\n",
        "        X0[y == 1], X1[y == 1],\n",
        "        c='red', label=labels[1], \n",
        "        s=60, alpha=0.9, edgecolors='k')\n",
        "    twos = ax.scatter(\n",
        "        X0[y == 2], X1[y == 2],\n",
        "        c='blue', label=labels[2],\n",
        "        s=60, alpha=0.9, edgecolors='k')\n",
        "    \n",
        "    ax.set_ylabel(labels[1])\n",
        "    ax.set_xlabel(labels[0])\n",
        "    ax.set_xticks(())\n",
        "    ax.set_yticks(())\n",
        "    ax.set_title(title)\n",
        "    ax.legend()\n",
        "    plt.show()\n",
        "\n",
        "\n",
        "from sklearn.decomposition import PCA\n",
        "import matplotlib.pyplot as plt\n",
        "\n",
        "pca = PCA(2)\n",
        "pca.fit(x_train)\n",
        "x_train2 = pca.transform(x_train)\n",
        "\n",
        "x_train2, y_train2 = np.array(x_train2), np.array(y_train)\n",
        "\n",
        "labels = [\"0\", \"1\", \"2\", \"3\", \"4\", \"5\", \"6\", \"7\" , \"8\" , \"9\"]\n",
        "lr.fit(x_train2, y_train2)\n",
        "plot_clf(lr, X_train, Y_train, labels)\n"
      ],
      "execution_count": null,
      "outputs": [
        {
          "data": {
            "image/png": "[encoded data removed]",
            "text/plain": [
              "<Figure size 1440x1440 with 1 Axes>"
            ]
          },
          "metadata": {},
          "output_type": "display_data"
        }
      ]
    },
    {
      "cell_type": "markdown",
      "metadata": {
        "id": "XCbSF4dbVjzY"
      },
      "source": [
        "# Gaussian Naive Bayes\n",
        "\n",
        "\n",
        "---\n",
        "\n",
        "\n"
      ]
    },
    {
      "cell_type": "markdown",
      "metadata": {
        "id": "vBc89mlnFH62"
      },
      "source": [
        "Στον gaussian naive bayes θεωρούμε ότι τα δείγματα της κάθε κλάσης ακολουθούν κανονική κατανομή και ότι είναι μεταξύ τους independent identically distributed. Στην φάση της εκπαίδευσης εκτιμώνται οι παράμετροι των γκουσιανών κατανομών και στη συνέχεια τα δείγματα του test συνόλου ταξινομούνται σε κλάσεις με τη λογική του bayes estimation. (Μεγιστοποίηση γινουμένου p(x|ω_i) * p(ω_i))"
      ]
    },
    {
      "cell_type": "code",
      "metadata": {
        "cellView": "code",
        "colab": {
          "base_uri": "https://localhost:8080/"
        },
        "id": "4Jd8vOSy55xi",
        "outputId": "0c28a1ff-927c-4b3d-b70a-1d6286fee5a0"
      },
      "source": [
        "from sklearn.naive_bayes import GaussianNB\n",
        "from sklearn.metrics import classification_report\n",
        "\n",
        "# Out-of-the-box training του GNB\n",
        "\n",
        "gnb = GaussianNB()\n",
        "gnb.fit(x_train, y_train)\n",
        "pred = gnb.predict(x_test)\n",
        "print(\"Για Out-of-the-box training του GNB έχουμε:\\n\")\n",
        "print(classification_report(y_test, pred))"
      ],
      "execution_count": null,
      "outputs": [
        {
          "output_type": "stream",
          "name": "stdout",
          "text": [
            "Για Out-of-the-box training του GNB έχουμε:\n",
            "\n",
            "              precision    recall  f1-score   support\n",
            "\n",
            "         1.0       0.69      0.78      0.73        40\n",
            "         2.0       0.10      0.07      0.08        15\n",
            "\n",
            "    accuracy                           0.58        55\n",
            "   macro avg       0.39      0.42      0.40        55\n",
            "weighted avg       0.53      0.58      0.55        55\n",
            "\n"
          ]
        }
      ]
    },
    {
      "cell_type": "code",
      "metadata": {
        "colab": {
          "base_uri": "https://localhost:8080/"
        },
        "id": "msVEmeM3-YUg",
        "outputId": "95ab9931-8d64-4032-8012-a85accc4c9f7"
      },
      "source": [
        "from imblearn.over_sampling import RandomOverSampler\n",
        "from imblearn.pipeline import Pipeline\n",
        "from sklearn.decomposition import PCA\n",
        "from sklearn.preprocessing import StandardScaler \n",
        "from sklearn.preprocessing import MinMaxScaler\n",
        "from sklearn.feature_selection import VarianceThreshold\n",
        "from sklearn.metrics import accuracy_score\n",
        "from sklearn.metrics import f1_score\n",
        "\n",
        "gnb = GaussianNB()\n",
        "pca = PCA()\n",
        "selector = VarianceThreshold()\n",
        "scaler = MinMaxScaler()\n",
        "\n",
        "pipe = Pipeline(steps=[('selector', selector), ('scaler', scaler), ('pca', pca), ('GNB', gnb)])\n",
        "\n",
        "pipe.fit(x_train,y_train)\n",
        "preds = pipe.predict(x_test)\n",
        "print(\"Μετά το training, για τις default τιμές τoυ pipe θα έχουμε:\")\n",
        "print(f'\\tΤο f1 στο test set είναι {f1_score(y_test, preds)}')\n",
        "print(f'\\tΤο accuracy στο test set είναι {accuracy_score(y_test, preds)}')"
      ],
      "execution_count": null,
      "outputs": [
        {
          "output_type": "stream",
          "name": "stdout",
          "text": [
            "Μετά το training, για τις default τιμές τoυ pipe θα έχουμε:\n",
            "\tΤο f1 στο test set είναι 0.7727272727272727\n",
            "\tΤο accuracy στο test set είναι 0.6363636363636364\n"
          ]
        }
      ]
    },
    {
      "cell_type": "code",
      "metadata": {
        "colab": {
          "base_uri": "https://localhost:8080/"
        },
        "id": "guCuaUwhAbcG",
        "outputId": "1bb706ec-0ec9-4bc9-9e4f-e19e775c8134"
      },
      "source": [
        "print(x_train.var(axis=0))\n",
        "print(\"\\nΒλέπουμε ότι οι διακυμάνσεις βρίσκονται στο εύρος 0.1 με 0.25 (εξαρτάται και από τα τυχαία δείγματα που θα επιλέξει η train_test_split)\")"
      ],
      "execution_count": null,
      "outputs": [
        {
          "name": "stdout",
          "output_type": "stream",
          "text": [
            "[0.25338332 0.14322953 0.12005232 0.16809339 0.2294943  0.15297106\n",
            " 0.20433332 0.15354731 0.25387951 0.19060112 0.12513946 0.11477249]\n",
            "\n",
            "Βλέπουμε ότι οι διακυμάνσεις βρίσκονται στο εύρος 0.1 με 0.25 (εξαρτάται και από τα τυχαία δείγματα που θα επιλέξει η train_test_split)\n"
          ]
        }
      ]
    },
    {
      "cell_type": "code",
      "metadata": {
        "colab": {
          "base_uri": "https://localhost:8080/"
        },
        "id": "o0G-7PjiAMqz",
        "outputId": "966a6f31-c66c-47a7-de37-ddb6ba464450"
      },
      "source": [
        "from sklearn.model_selection import GridSearchCV\n",
        "import time\n",
        "import warnings\n",
        "warnings.filterwarnings(\"ignore\")\n",
        "\n",
        "vthreshold = [0, 0.05, 0.1, 0.14, 0.16, 0.20] \n",
        "n_components = [1, 2, 3, 4, 7, 8, 10, 12]\n",
        "vsmooth = [1e-11, 1e-10, 1e-9, 1e-8] \n",
        "\n",
        "print(\"GridSearchCV με μετρική βελτιστοποίησης, το f1\\n\")\n",
        "estimator = GridSearchCV(pipe, dict(selector__threshold=vthreshold, pca__n_components=n_components, GNB__var_smoothing=vsmooth), cv=10, scoring='f1', n_jobs=-1)\n",
        "estimator.fit(x_train, y_train)\n",
        "\n",
        "pipe = Pipeline(steps=[('selector', selector), ('scaler', scaler), ('pca', pca), ('GNB', gnb)])\n",
        "pipe.set_params(**estimator.best_params_)\n",
        "start_time = time.time()\n",
        "pipe.fit(x_train, y_train)\n",
        "print(\"Συνολικός χρόνος fit: %s seconds\" % (time.time() - start_time))\n",
        "\n",
        "start_time = time.time()\n",
        "preds = pipe.predict(x_test)\n",
        "print(\"Συνολικός χρόνος predict: %s seconds\" % (time.time() - start_time))\n",
        "print(f'Ο βελτιστοποιημένος estimator, πέτυχε f1 ίσο με {f1_score(y_test, preds)} και accuracy ίσο με {accuracy_score(y_test, preds)}')\n",
        "print(f\"Για τον βέλτιστο estimator ως προς f1, επιλέχθηκε {estimator.best_params_['GNB__var_smoothing']} για το smoothing του GNB, {estimator.best_params_['pca__n_components']} για τις συνιστώσες του PCA, και {estimator.best_params_['selector__threshold']} για το threshold του VarianceThreshold Selector\")"
      ],
      "execution_count": null,
      "outputs": [
        {
          "output_type": "stream",
          "name": "stdout",
          "text": [
            "GridSearchCV με μετρική βελτιστοποίησης, το f1\n",
            "\n",
            "Συνολικός χρόνος fit: 0.0025348663330078125 seconds\n",
            "Συνολικός χρόνος predict: 0.0007669925689697266 seconds\n",
            "Ο βελτιστοποιημένος estimator, πέτυχε f1 ίσο με 0.8421052631578948 και accuracy ίσο με 0.7272727272727273\n",
            "Για τον βέλτιστο estimator ως προς f1, επιλέχθηκε 1e-11 για το smoothing του GNB, 1 για τις συνιστώσες του PCA, και 0 για το threshold του VarianceThreshold Selector\n"
          ]
        }
      ]
    },
    {
      "cell_type": "code",
      "metadata": {
        "colab": {
          "base_uri": "https://localhost:8080/"
        },
        "id": "95gCJyG9FcxS",
        "outputId": "e9fbec69-906b-48a9-d303-692a1b080856"
      },
      "source": [
        "vthreshold = [0, 0.05, 0.1, 0.14, 0.16, 0.20] \n",
        "n_components = [1, 2, 3, 4, 7, 8, 10, 12]\n",
        "vsmooth = [1e-11, 1e-10, 1e-9, 1e-8] \n",
        "\n",
        "print(\"GridSearchCV με μετρική βελτιστοποίησης, το accuracy\\n\")\n",
        "pipe2 = Pipeline(steps=[('selector', selector), ('scaler', scaler), ('pca', pca), ('GNB', gnb)])\n",
        "estimator2 = GridSearchCV(pipe2, dict(selector__threshold=vthreshold, pca__n_components=n_components, GNB__var_smoothing=vsmooth), cv=10, scoring='accuracy', n_jobs=-1)\n",
        "estimator2.fit(x_train, y_train)\n",
        "\n",
        "pipe2.set_params(**estimator.best_params_)\n",
        "start_time = time.time()\n",
        "pipe2.fit(x_train, y_train)\n",
        "print(\"Συνολικός χρόνος fit: %s seconds\" % (time.time() - start_time))\n",
        "\n",
        "start_time = time.time()\n",
        "preds2 = pipe2.predict(x_test)\n",
        "print(\"Συνολικός χρόνος predict: %s seconds\" % (time.time() - start_time))\n",
        "print(f'Ο βελτιστοποιημένος estimator, πέτυχε f1 ίσο με {f1_score(y_test, preds2)} και accuracy ίσο με {accuracy_score(y_test, preds2)}')\n",
        "print(f\"Για τον βέλτιστο estimator ως προς f1, επιλέχθηκε {estimator2.best_params_['GNB__var_smoothing']} για το smoothing του GNB, {estimator2.best_params_['pca__n_components']} για τις συνιστώσες του PCA, και {estimator2.best_params_['selector__threshold']} για το threshold του VarianceThreshold Selector\")"
      ],
      "execution_count": null,
      "outputs": [
        {
          "name": "stdout",
          "output_type": "stream",
          "text": [
            "GridSearchCV με μετρική βελτιστοποίησης, το accuracy\n",
            "\n",
            "Συνολικός χρόνος fit: 0.002158641815185547 seconds\n",
            "Συνολικός χρόνος predict: 0.0007259845733642578 seconds\n",
            "Ο βελτιστοποιημένος estimator, πέτυχε f1 ίσο με 0.7865168539325843 και accuracy ίσο με 0.6545454545454545\n",
            "Για τον βέλτιστο estimator ως προς f1, επιλέχθηκε 1e-11 για το smoothing του GNB, 1 για τις συνιστώσες του PCA, και 0 για το threshold του VarianceThreshold Selector\n"
          ]
        }
      ]
    },
    {
      "cell_type": "markdown",
      "metadata": {
        "id": "1occ8hdGbem9"
      },
      "source": [
        "Συνολικά, για τον Gaussian Naive Bayes, είδαμε ότι Oversampling έδινε πολύ κακές επιδόσεις (accuracy < 0.45), πιθανότατα λόγω του μικρού μεγέθος του dataset. Επίσης ο MinMaxScaler, αποδείχθηκε να δίνει τις καλύτερες τιμές, όσον αφορά την κλιμάκωση των χαρακτηριστικών."
      ]
    },
    {
      "cell_type": "markdown",
      "metadata": {
        "id": "k-2uNqmGgshR"
      },
      "source": [
        "#KNeirestNeighbors (kNN)"
      ]
    },
    {
      "cell_type": "markdown",
      "metadata": {
        "id": "sOeKp_wiGwjU"
      },
      "source": [
        "Ο KNeirestNeighbour ταξινομεί τα δείγματα στην κλάση της πιο συχνής κλάσης των k κοντινότερων δειγμάτων."
      ]
    },
    {
      "cell_type": "markdown",
      "metadata": {
        "id": "HoNa0qdKg1dZ"
      },
      "source": [
        "Παρακάτω φαίνεται η επίδοση του out-of-the-box kNN ταξινομητή. H default τιμή του k είναι ίση με 5."
      ]
    },
    {
      "cell_type": "code",
      "metadata": {
        "colab": {
          "base_uri": "https://localhost:8080/"
        },
        "id": "jya78Eo8i3MS",
        "outputId": "fedbb044-20b0-4758-d43e-b7e307bde4df"
      },
      "source": [
        "from sklearn.metrics import accuracy_score\n",
        "from sklearn.metrics import f1_score\n",
        "from sklearn.neighbors import KNeighborsClassifier\n",
        "from sklearn.model_selection import KFold\n",
        "from sklearn.model_selection import cross_val_score\n",
        "from sklearn.metrics import classification_report\n",
        "\n",
        "\n",
        "\n",
        "kNN = KNeighborsClassifier()\n",
        "kNN.fit(x_train, y_train)\n",
        "pred = kNN.predict(x_test)\n",
        "print(\"Για Out-of-the-box training του kNN έχουμε:\\n\")\n",
        "print(classification_report(y_test, pred))\n",
        "\n",
        "print(f'Το συνολικό accuracy_score είναι {accuracy_score(y_test, pred)}')\n",
        "print(f'Το συνολικό f1_score είναι {f1_score(y_test, pred)}')"
      ],
      "execution_count": 10,
      "outputs": [
        {
          "output_type": "stream",
          "name": "stdout",
          "text": [
            "Για Out-of-the-box training του kNN έχουμε:\n",
            "\n",
            "              precision    recall  f1-score   support\n",
            "\n",
            "         1.0       0.72      0.76      0.74        41\n",
            "         2.0       0.17      0.14      0.15        14\n",
            "\n",
            "    accuracy                           0.60        55\n",
            "   macro avg       0.44      0.45      0.45        55\n",
            "weighted avg       0.58      0.60      0.59        55\n",
            "\n",
            "Το συνολικό accuracy_score είναι 0.6\n",
            "Το συνολικό f1_score είναι 0.7380952380952381\n"
          ]
        }
      ]
    },
    {
      "cell_type": "markdown",
      "metadata": {
        "id": "3xdVcK1Pny_d"
      },
      "source": [
        "Παρατηρούμε ότι στην περίπτωση του out-of-the-box ο ταξινομητής όπως και στις προηγούμενες περιπτώσεις ταξινομητών, ταξινομεί σχεδόν όλα τα δείγματα του test set στην κλάσση 1, με αποτέλεσμα να έχει πολύ κακό accuracy για τα δεδομένα της κλάσσης 2. "
      ]
    },
    {
      "cell_type": "code",
      "metadata": {
        "colab": {
          "base_uri": "https://localhost:8080/"
        },
        "id": "8qaOfJRUoT55",
        "outputId": "642a6541-3a64-43e1-c9ac-1601d91518e4"
      },
      "source": [
        "print(\"Οι προβλέψεις του kNN είναι οι εξής:\")\n",
        "print(pred)"
      ],
      "execution_count": 11,
      "outputs": [
        {
          "output_type": "stream",
          "name": "stdout",
          "text": [
            "Οι προβλέψεις του kNN είναι οι εξής:\n",
            "[1. 1. 2. 2. 2. 2. 1. 2. 1. 1. 2. 1. 2. 1. 1. 2. 1. 1. 1. 1. 1. 1. 1. 1.\n",
            " 1. 1. 1. 1. 1. 1. 1. 1. 1. 1. 2. 2. 1. 1. 1. 1. 2. 1. 1. 1. 1. 1. 1. 1.\n",
            " 1. 1. 1. 1. 1. 1. 2.]\n"
          ]
        }
      ]
    },
    {
      "cell_type": "markdown",
      "metadata": {
        "id": "GisG8v7mj6hH"
      },
      "source": [
        "Στην συνέχεια δημιουργούμε ένα pipeline για την προεπεξεργασία των δεδομένων και ελέγχουμε την απόδοση του. Σε αυτό το σημείο δεν έχουμε βελτιστοποιήσει ακόμα καμία παράμετρο.\n",
        "Χρησιμοποιούμε: \n",
        "1. Variance threshold το οποίο εξαλείφει τα χαρακτηριστικά τα οποία παρουσιάζουν πολύ μικρή διακύμανση με αποτέλεσμα να μην προσφέρουν κάποια πληροφορία.\n",
        "\n",
        "2. StandardScaler ο οποίος κάνει τον μέσο όρο των features ίσο με 0 και την διακύμανση ίση με 1.\n",
        "\n",
        "3. RandomOverSampler για την εξισσορόπηση των κλάσεων στο train set\n",
        "\n",
        "4. PCA για την μείωση της διαστατικότητας\n",
        "\n"
      ]
    },
    {
      "cell_type": "code",
      "metadata": {
        "colab": {
          "base_uri": "https://localhost:8080/"
        },
        "id": "gndrieZ0y87-",
        "outputId": "36cb2594-3e07-4ccc-bfe0-953167f09b59"
      },
      "source": [
        "#from sklearn.pipeline import Pipeline\n",
        "from imblearn.pipeline import Pipeline\n",
        "from sklearn.feature_selection import VarianceThreshold\n",
        "from sklearn.preprocessing import StandardScaler # φέρνουμε τον StandarScaler ως transformer που έχει .transform kai ΄όχι ως scale()\n",
        "from imblearn.over_sampling import RandomOverSampler\n",
        "from sklearn.decomposition import PCA\n",
        "from sklearn.metrics import classification_report\n",
        "\n",
        "\n",
        "selector = VarianceThreshold()\n",
        "scaler = StandardScaler()\n",
        "ros = RandomOverSampler()\n",
        "pca = PCA()\n",
        "clf = KNeighborsClassifier(n_jobs=-1) # η παράμετρος n_jobs = 1 χρησιμοποιεί όλους τους πυρήνες του υπολογιστή\n",
        "pipe = Pipeline(steps=[('selector', selector), ('scaler', scaler), ('sampler', ros), ('pca', pca), ('kNN', clf)])\n",
        "\n",
        "pipe.fit(x_train,y_train)\n",
        "\n",
        "preds = pipe.predict(x_test)\n",
        "print(classification_report(y_test, preds))\n"
      ],
      "execution_count": null,
      "outputs": [
        {
          "name": "stdout",
          "output_type": "stream",
          "text": [
            "              precision    recall  f1-score   support\n",
            "\n",
            "         1.0       0.79      0.52      0.63        42\n",
            "         2.0       0.26      0.54      0.35        13\n",
            "\n",
            "    accuracy                           0.53        55\n",
            "   macro avg       0.52      0.53      0.49        55\n",
            "weighted avg       0.66      0.53      0.56        55\n",
            "\n"
          ]
        }
      ]
    },
    {
      "cell_type": "code",
      "metadata": {
        "colab": {
          "base_uri": "https://localhost:8080/"
        },
        "id": "nYxpgo6Nzj4s",
        "outputId": "d6164aa7-cea3-45e5-c36b-581a75da6ecc"
      },
      "source": [
        "print(f'Το συνολικό f1_score είναι {f1_score(y_test, preds)}')\n",
        "print(f'Το συνολικό accuracy είναι {accuracy_score(y_test, preds)}')"
      ],
      "execution_count": null,
      "outputs": [
        {
          "name": "stdout",
          "output_type": "stream",
          "text": [
            "Το συνολικό f1_score είναι 0.7246376811594204\n",
            "Το συνολικό accuracy είναι 0.6545454545454545\n"
          ]
        }
      ]
    },
    {
      "cell_type": "markdown",
      "metadata": {
        "id": "0cj_2r3Nz7iD"
      },
      "source": [
        "Παρατηρούμε ότι βελτιώνεται το accuracy, αλλά μειώνεται το f1 score."
      ]
    },
    {
      "cell_type": "markdown",
      "metadata": {
        "id": "e0MemeMDzjqN"
      },
      "source": [
        "Στην συνέχεια θα προσπαθήσουμε να βελτιστοποιήσουμε τις παραμέτρους του pipeline με τη χρήση του gridsearch"
      ]
    },
    {
      "cell_type": "code",
      "metadata": {
        "colab": {
          "base_uri": "https://localhost:8080/"
        },
        "id": "hLr2K6kv1fgZ",
        "outputId": "60d99494-570a-4b30-bc71-d42054039e5a"
      },
      "source": [
        "vthreshold = [0, 0.01, 0.05, 0.08, 0.1, 0.13]\n",
        "n_components = [1, 2, 3, 4, 7, 9, 12]\n",
        "sampling_strategy = [0.7, 0.8, 0.9, 0.95, 1.0]\n",
        "metric_ = ['euclidean', 'minkowski', 'manhattan']\n",
        "k = [1, 2, 3, 4 , 10]\n",
        "\n",
        "pipe = Pipeline(steps=[('ros', ros),('selector', selector), ('scaler', scaler), ('pca', pca), ('kNN', clf)])\n",
        "\n",
        "\n",
        "estimator = GridSearchCV(pipe, dict(selector__threshold=vthreshold, ros__sampling_strategy = sampling_strategy, pca__n_components=n_components, kNN__metric = metric_, kNN__n_neighbors=k), cv=10, scoring='accuracy', n_jobs=-1)\n",
        "\n",
        "import time\n",
        "\n",
        "estimator.fit(x_train, y_train)\n",
        "pipe = Pipeline(steps=[('ros', ros),('selector', selector), ('scaler', scaler), ('pca', pca), ('kNN', clf)])\n",
        "pipe.set_params(**estimator.best_params_)\n",
        "start_time = time.time()\n",
        "pipe.fit(x_train, y_train)\n",
        "print(\"Συνολικός χρόνος fit: %s seconds\" % (time.time() - start_time))\n",
        "\n",
        "start_time = time.time()\n",
        "preds = pipe.predict(x_test)\n",
        "print(\"Συνολικός χρόνος predict: %s seconds\" % (time.time() - start_time))\n",
        "\n",
        "\n",
        "print(classification_report(y_test, preds))\n",
        "print(estimator.best_params_)"
      ],
      "execution_count": null,
      "outputs": [
        {
          "name": "stdout",
          "output_type": "stream",
          "text": [
            "Συνολικός χρόνος fit: 0.0029854774475097656 seconds\n",
            "Συνολικός χρόνος predict: 0.10553956031799316 seconds\n",
            "              precision    recall  f1-score   support\n",
            "\n",
            "         1.0       0.76      0.62      0.68        42\n",
            "         2.0       0.24      0.38      0.29        13\n",
            "\n",
            "    accuracy                           0.56        55\n",
            "   macro avg       0.50      0.50      0.49        55\n",
            "weighted avg       0.64      0.56      0.59        55\n",
            "\n",
            "{'kNN__metric': 'manhattan', 'kNN__n_neighbors': 2, 'pca__n_components': 1, 'ros__sampling_strategy': 0.8, 'selector__threshold': 0.13}\n"
          ]
        }
      ]
    },
    {
      "cell_type": "code",
      "metadata": {
        "colab": {
          "base_uri": "https://localhost:8080/"
        },
        "id": "nwIcUipAB5Gp",
        "outputId": "fb2c1e6d-9dde-4e7d-e0a0-54bb58400762"
      },
      "source": [
        "print(f'Το συνολικό f1_score είναι {f1_score(y_test, preds)}')\n",
        "print(f'Το συνολικό accuracy είναι {accuracy_score(y_test, preds)}')"
      ],
      "execution_count": null,
      "outputs": [
        {
          "name": "stdout",
          "output_type": "stream",
          "text": [
            "Το συνολικό f1_score είναι 0.6842105263157895\n",
            "Το συνολικό accuracy είναι 0.5636363636363636\n"
          ]
        }
      ]
    },
    {
      "cell_type": "markdown",
      "metadata": {
        "id": "L1_VHrQYRpmI"
      },
      "source": [
        "Παρατηρούμε ότι τόσο το accuracy όσο και το f1_score μειώθηκαν από την out-of-the-box επίδοση. Ενδιαφερόν είναι ότι βέλτιστο αποτέλεσμα δίνει η περίπτωση που ο PCA κρατάει μόνο μια διάσταση. Αυτό οφείλεται στο γεγονός ότι τα δείγματα είναι πολύ λίγα. Στην συνέχεια δοκιμάζουμε grid-search με στόχο την βελτιστοποίηση της μετρικής f1."
      ]
    },
    {
      "cell_type": "code",
      "metadata": {
        "colab": {
          "base_uri": "https://localhost:8080/"
        },
        "id": "h3TSenjRCCAL",
        "outputId": "d5e7bf20-e9a5-4123-fd5d-c016967ef470"
      },
      "source": [
        "vthreshold = [0, 0.01, 0.05, 0.08, 0.1, 0.13]\n",
        "n_components = [1, 2, 3, 4, 7, 9, 12]\n",
        "sampling_strategy = [0.7, 0.8, 0.9, 0.95, 1.0]\n",
        "metric_ = ['euclidean', 'minkowski', 'manhattan']\n",
        "k = [1, 2, 3, 4 , 10]\n",
        "\n",
        "pipe = Pipeline(steps=[('ros', ros),('selector', selector), ('scaler', scaler), ('pca', pca), ('kNN', clf)])\n",
        "\n",
        "\n",
        "estimator = GridSearchCV(pipe, dict(selector__threshold=vthreshold, ros__sampling_strategy = sampling_strategy, pca__n_components=n_components, kNN__metric = metric_, kNN__n_neighbors=k), cv=10, scoring='f1', n_jobs=-1)\n",
        "\n",
        "import time\n",
        "\n",
        "estimator.fit(x_train, y_train)\n",
        "pipe = Pipeline(steps=[('ros', ros),('selector', selector), ('scaler', scaler), ('pca', pca), ('kNN', clf)])\n",
        "pipe.set_params(**estimator.best_params_)\n",
        "start_time = time.time()\n",
        "pipe.fit(x_train, y_train)\n",
        "print(\"Συνολικός χρόνος fit: %s seconds\" % (time.time() - start_time))\n",
        "\n",
        "start_time = time.time()\n",
        "preds = pipe.predict(x_test)\n",
        "print(\"Συνολικός χρόνος predict: %s seconds\" % (time.time() - start_time))\n",
        "\n",
        "\n",
        "print(classification_report(y_test, preds))\n",
        "print(estimator.best_params_)"
      ],
      "execution_count": null,
      "outputs": [
        {
          "name": "stdout",
          "output_type": "stream",
          "text": [
            "Συνολικός χρόνος fit: 0.003192901611328125 seconds\n",
            "Συνολικός χρόνος predict: 0.10592913627624512 seconds\n",
            "              precision    recall  f1-score   support\n",
            "\n",
            "         1.0       0.79      0.71      0.75        42\n",
            "         2.0       0.29      0.38      0.33        13\n",
            "\n",
            "    accuracy                           0.64        55\n",
            "   macro avg       0.54      0.55      0.54        55\n",
            "weighted avg       0.67      0.64      0.65        55\n",
            "\n",
            "{'kNN__metric': 'manhattan', 'kNN__n_neighbors': 2, 'pca__n_components': 2, 'ros__sampling_strategy': 0.7, 'selector__threshold': 0.13}\n"
          ]
        }
      ]
    },
    {
      "cell_type": "code",
      "metadata": {
        "colab": {
          "base_uri": "https://localhost:8080/"
        },
        "id": "sEbXvsS2EdiR",
        "outputId": "2a5572a2-e1c5-448d-9e73-e724bc5cc5f3"
      },
      "source": [
        "print(f'Το συνολικό f1_score είναι {f1_score(y_test, preds)}')\n",
        "print(f'Το συνολικό accuracy είναι {accuracy_score(y_test, preds)}')"
      ],
      "execution_count": null,
      "outputs": [
        {
          "name": "stdout",
          "output_type": "stream",
          "text": [
            "Το συνολικό f1_score είναι 0.71875\n",
            "Το συνολικό accuracy είναι 0.6727272727272727\n"
          ]
        }
      ]
    },
    {
      "cell_type": "markdown",
      "metadata": {
        "id": "41qK3xVgSUoa"
      },
      "source": [
        "Σε αυτή την περίπτωση το accuracy αυξήθηκε κατα 2% περίπου από την περίπτωση του pipe-line με τις default τιμές και το f1 έπεσε ελαφρώς. Πάλι ο PCA κράτησε μόνο δύο διαστάσεις. Παρατηρούμε επίσης ότι επιλέγεται το μέγιστο κατώφλι διακύμανσης που έχουμε βάλει, επομένως δοκιμάζουμε και μεγαλύτερες τιμές. Δοκιμάζουμε επίσης και ως scaler τον MinMaxScaler που φάνηκε στους προηγούμενους ταξινομητές να εμφανίζει καλά αποτελέσματα."
      ]
    },
    {
      "cell_type": "code",
      "metadata": {
        "colab": {
          "base_uri": "https://localhost:8080/"
        },
        "id": "GYF6iYffJrdV",
        "outputId": "1692181b-1c8a-4c15-a190-ac2e70a9452a"
      },
      "source": [
        "vthreshold = [0.15, 0.17, 0.19, 0.21]\n",
        "n_components = [1, 2, 3]\n",
        "sampling_strategy = [0.7, 0.8, 0.9, 0.95, 1.0]\n",
        "metric_ = ['euclidean', 'minkowski', 'manhattan']\n",
        "k = [1, 2, 3, 4]\n",
        "scaler = MinMaxScaler()\n",
        "\n",
        "pipe = Pipeline(steps=[('ros', ros),('selector', selector), ('scaler', scaler), ('pca', pca), ('kNN', clf)])\n",
        "\n",
        "\n",
        "estimator = GridSearchCV(pipe, dict(selector__threshold=vthreshold, ros__sampling_strategy = sampling_strategy, pca__n_components=n_components, kNN__metric = metric_, kNN__n_neighbors=k), cv=10, scoring='f1', n_jobs=-1)\n",
        "\n",
        "import time\n",
        "\n",
        "estimator.fit(x_train, y_train)\n",
        "pipe = Pipeline(steps=[('ros', ros),('selector', selector), ('scaler', scaler), ('pca', pca), ('kNN', clf)])\n",
        "pipe.set_params(**estimator.best_params_)\n",
        "start_time = time.time()\n",
        "pipe.fit(x_train, y_train)\n",
        "print(\"Συνολικός χρόνος fit: %s seconds\" % (time.time() - start_time))\n",
        "\n",
        "start_time = time.time()\n",
        "preds = pipe.predict(x_test)\n",
        "print(\"Συνολικός χρόνος predict: %s seconds\" % (time.time() - start_time))\n",
        "\n",
        "\n",
        "print(classification_report(y_test, preds))\n",
        "print(estimator.best_params_)"
      ],
      "execution_count": null,
      "outputs": [
        {
          "name": "stdout",
          "output_type": "stream",
          "text": [
            "Συνολικός χρόνος fit: 0.002900362014770508 seconds\n",
            "Συνολικός χρόνος predict: 0.10488486289978027 seconds\n",
            "              precision    recall  f1-score   support\n",
            "\n",
            "         1.0       0.64      0.74      0.68        34\n",
            "         2.0       0.44      0.33      0.38        21\n",
            "\n",
            "    accuracy                           0.58        55\n",
            "   macro avg       0.54      0.53      0.53        55\n",
            "weighted avg       0.56      0.58      0.57        55\n",
            "\n",
            "{'kNN__metric': 'manhattan', 'kNN__n_neighbors': 2, 'pca__n_components': 1, 'ros__sampling_strategy': 0.8, 'selector__threshold': 0.17}\n"
          ]
        }
      ]
    },
    {
      "cell_type": "code",
      "metadata": {
        "colab": {
          "base_uri": "https://localhost:8080/"
        },
        "id": "-Op5vKakLc_B",
        "outputId": "e67f0222-1363-4ab5-a2a7-15c5cd950f14"
      },
      "source": [
        "print(f'Το συνολικό f1_score είναι {f1_score(y_test, preds)}')\n",
        "print(f'Το συνολικό accuracy είναι {accuracy_score(y_test, preds)}')"
      ],
      "execution_count": null,
      "outputs": [
        {
          "name": "stdout",
          "output_type": "stream",
          "text": [
            "Το συνολικό f1_score είναι 0.6849315068493151\n",
            "Το συνολικό accuracy είναι 0.5818181818181818\n"
          ]
        }
      ]
    },
    {
      "cell_type": "markdown",
      "metadata": {
        "id": "Se4AawGLTnrl"
      },
      "source": [
        "Προέκυψαν χειρότερα αποτελέσματα, από ότι παραπάνω. Δοκιμάζουμε παρακάτω με τις ίδιες παραμέτρους grid-search με στόχο την μεγιστοποίηση του accuracy."
      ]
    },
    {
      "cell_type": "code",
      "metadata": {
        "colab": {
          "base_uri": "https://localhost:8080/"
        },
        "id": "DctPG9oIN3RS",
        "outputId": "43088cb2-558f-45dc-e3d9-fdc554dc0752"
      },
      "source": [
        "vthreshold = [0.15, 0.17, 0.19, 0.21]\n",
        "n_components = [1, 2, 3]\n",
        "sampling_strategy = [0.7, 0.8, 0.9, 0.95, 1.0]\n",
        "metric_ = ['euclidean', 'minkowski', 'manhattan']\n",
        "k = [1, 2, 3, 4]\n",
        "scaler = MinMaxScaler()\n",
        "\n",
        "pipe = Pipeline(steps=[('ros', ros),('selector', selector), ('scaler', scaler), ('pca', pca), ('kNN', clf)])\n",
        "\n",
        "\n",
        "estimator = GridSearchCV(pipe, dict(selector__threshold=vthreshold, ros__sampling_strategy = sampling_strategy, pca__n_components=n_components, kNN__metric = metric_, kNN__n_neighbors=k), cv=10, scoring='accuracy', n_jobs=-1)\n",
        "\n",
        "import time\n",
        "\n",
        "estimator.fit(x_train, y_train)\n",
        "pipe = Pipeline(steps=[('ros', ros),('selector', selector), ('scaler', scaler), ('pca', pca), ('kNN', clf)])\n",
        "pipe.set_params(**estimator.best_params_)\n",
        "start_time = time.time()\n",
        "pipe.fit(x_train, y_train)\n",
        "print(\"Συνολικός χρόνος fit: %s seconds\" % (time.time() - start_time))\n",
        "\n",
        "start_time = time.time()\n",
        "preds = pipe.predict(x_test)\n",
        "print(\"Συνολικός χρόνος predict: %s seconds\" % (time.time() - start_time))\n",
        "\n",
        "\n",
        "print(classification_report(y_test, preds))\n",
        "print(estimator.best_params_)"
      ],
      "execution_count": null,
      "outputs": [
        {
          "name": "stdout",
          "output_type": "stream",
          "text": [
            "Συνολικός χρόνος fit: 0.0029218196868896484 seconds\n",
            "Συνολικός χρόνος predict: 0.10706067085266113 seconds\n",
            "              precision    recall  f1-score   support\n",
            "\n",
            "         1.0       0.64      0.85      0.73        34\n",
            "         2.0       0.50      0.24      0.32        21\n",
            "\n",
            "    accuracy                           0.62        55\n",
            "   macro avg       0.57      0.55      0.53        55\n",
            "weighted avg       0.59      0.62      0.58        55\n",
            "\n",
            "{'kNN__metric': 'euclidean', 'kNN__n_neighbors': 2, 'pca__n_components': 1, 'ros__sampling_strategy': 0.7, 'selector__threshold': 0.19}\n"
          ]
        }
      ]
    },
    {
      "cell_type": "code",
      "metadata": {
        "colab": {
          "base_uri": "https://localhost:8080/"
        },
        "id": "CGEcmWr0PcxL",
        "outputId": "5f464b6d-6002-4c51-df17-c649320431d4"
      },
      "source": [
        "print(f'Το συνολικό f1_score είναι {f1_score(y_test, preds)}')\n",
        "print(f'Το συνολικό accuracy είναι {accuracy_score(y_test, preds)}')"
      ],
      "execution_count": null,
      "outputs": [
        {
          "name": "stdout",
          "output_type": "stream",
          "text": [
            "Το συνολικό f1_score είναι 0.7341772151898734\n",
            "Το συνολικό accuracy είναι 0.6181818181818182\n"
          ]
        }
      ]
    },
    {
      "cell_type": "markdown",
      "metadata": {
        "id": "BysJqWcyT89Y"
      },
      "source": [
        "Παρατηρούμε ότι προκύπτουν ελαφρώς καλύτερα αποτελέσματα. Δοκιμάζουμε ξανά τον StandardScaler."
      ]
    },
    {
      "cell_type": "code",
      "metadata": {
        "colab": {
          "base_uri": "https://localhost:8080/"
        },
        "id": "FtFIoDs4TZXp",
        "outputId": "a19169f8-1b0b-4b9a-b959-bea9dd7892a9"
      },
      "source": [
        "scaler = StandardScaler()\n",
        "vthreshold = [0.15, 0.17, 0.19, 0.21]\n",
        "n_components = [1, 2, 3]\n",
        "sampling_strategy = [0.7, 0.8, 0.9, 0.95]\n",
        "metric_ = ['euclidean', 'minkowski', 'manhattan']\n",
        "k = [1, 2, 3]\n",
        "\n",
        "\n",
        "pipe = Pipeline(steps=[('ros', ros),('selector', selector), ('scaler', scaler), ('pca', pca), ('kNN', clf)])\n",
        "\n",
        "\n",
        "estimator = GridSearchCV(pipe, dict(selector__threshold=vthreshold, ros__sampling_strategy = sampling_strategy, pca__n_components=n_components, kNN__metric = metric_, kNN__n_neighbors=k), cv=10, scoring='f1', n_jobs=-1)\n",
        "\n",
        "import time\n",
        "\n",
        "estimator.fit(x_train, y_train)\n",
        "pipe = Pipeline(steps=[('ros', ros),('selector', selector), ('scaler', scaler), ('pca', pca), ('kNN', clf)])\n",
        "pipe.set_params(**estimator.best_params_)\n",
        "start_time = time.time()\n",
        "pipe.fit(x_train, y_train)\n",
        "print(\"Συνολικός χρόνος fit: %s seconds\" % (time.time() - start_time))\n",
        "\n",
        "start_time = time.time()\n",
        "preds = pipe.predict(x_test)\n",
        "print(\"Συνολικός χρόνος predict: %s seconds\" % (time.time() - start_time))\n",
        "\n",
        "\n",
        "print(classification_report(y_test, preds))\n",
        "print(estimator.best_params_)"
      ],
      "execution_count": null,
      "outputs": [
        {
          "name": "stdout",
          "output_type": "stream",
          "text": [
            "Συνολικός χρόνος fit: 0.0030908584594726562 seconds\n",
            "Συνολικός χρόνος predict: 0.10790348052978516 seconds\n",
            "              precision    recall  f1-score   support\n",
            "\n",
            "         1.0       0.65      0.82      0.73        34\n",
            "         2.0       0.50      0.29      0.36        21\n",
            "\n",
            "    accuracy                           0.62        55\n",
            "   macro avg       0.58      0.55      0.55        55\n",
            "weighted avg       0.59      0.62      0.59        55\n",
            "\n",
            "{'kNN__metric': 'euclidean', 'kNN__n_neighbors': 2, 'pca__n_components': 1, 'ros__sampling_strategy': 0.7, 'selector__threshold': 0.19}\n"
          ]
        }
      ]
    },
    {
      "cell_type": "code",
      "metadata": {
        "colab": {
          "base_uri": "https://localhost:8080/"
        },
        "id": "2bjeAsTFUo_i",
        "outputId": "a8ce72e4-21ec-4c0f-d2bf-4ad3186e400e"
      },
      "source": [
        "print(f'Το συνολικό f1_score είναι {f1_score(y_test, preds)}')\n",
        "print(f'Το συνολικό accuracy είναι {accuracy_score(y_test, preds)}')"
      ],
      "execution_count": null,
      "outputs": [
        {
          "name": "stdout",
          "output_type": "stream",
          "text": [
            "Το συνολικό f1_score είναι 0.7272727272727273\n",
            "Το συνολικό accuracy είναι 0.6181818181818182\n"
          ]
        }
      ]
    },
    {
      "cell_type": "markdown",
      "metadata": {
        "id": "LOjVoQ-7U43r"
      },
      "source": [
        "Παρατηρούμε ότι τα αποτελέσματα είναι παρόμοια. Καταλήγουμε λοιπόν ότι οι καλύτεροι παράμετροι είναι οι εξής: <br>\n",
        "kNN__metric: 'manhattan' <br>\n",
        "kNN__n_neighbors: 2  <br>\n",
        "pca__n_components': 2 <br>\n",
        "ros__sampling_strategy: 0.7 <br>\n",
        "selector__threshold: 0.13\n",
        "\n",
        "\n"
      ]
    },
    {
      "cell_type": "code",
      "metadata": {
        "colab": {
          "base_uri": "https://localhost:8080/"
        },
        "id": "gSVUYWEVVhjq",
        "outputId": "4baed0ed-fc68-48ca-da39-875e3c9f3d0e"
      },
      "source": [
        "selector = VarianceThreshold(threshold=0.13)\n",
        "scaler = StandardScaler()\n",
        "ros = RandomOverSampler(sampling_strategy = 0.7)\n",
        "pca = PCA(n_components=2)\n",
        "clf = KNeighborsClassifier(metric= 'manhattan',n_neighbors = 2,n_jobs=-1) # η παράμετρος n_jobs = 1 χρησιμοποιεί όλους τους πυρήνες του υπολογιστή\n",
        "pipe = Pipeline(steps=[('selector', selector), ('scaler', scaler), ('sampler', ros), ('pca', pca), ('kNN', clf)])\n",
        "\n",
        "start_time = time.time()\n",
        "\n",
        "pipe.fit(x_train, y_train)\n",
        "print(\"Συνολικός χρόνος fit: %s seconds\" % (time.time() - start_time))\n",
        "\n",
        "start_time = time.time()\n",
        "preds = pipe.predict(x_test)\n",
        "print(\"Συνολικός χρόνος predict: %s seconds\" % (time.time() - start_time))\n",
        "\n",
        "\n",
        "print(classification_report(y_test, preds))\n",
        "print(f'Το συνολικό f1_score είναι {f1_score(y_test, preds)}')\n",
        "print(f'Το συνολικό accuracy είναι {accuracy_score(y_test, preds)}')"
      ],
      "execution_count": null,
      "outputs": [
        {
          "name": "stdout",
          "output_type": "stream",
          "text": [
            "Συνολικός χρόνος fit: 0.00439453125 seconds\n",
            "Συνολικός χρόνος predict: 0.1051790714263916 seconds\n",
            "              precision    recall  f1-score   support\n",
            "\n",
            "         1.0       0.67      0.85      0.75        34\n",
            "         2.0       0.58      0.33      0.42        21\n",
            "\n",
            "    accuracy                           0.65        55\n",
            "   macro avg       0.63      0.59      0.59        55\n",
            "weighted avg       0.64      0.65      0.63        55\n",
            "\n",
            "Το συνολικό f1_score είναι 0.7532467532467532\n",
            "Το συνολικό accuracy είναι 0.6545454545454545\n"
          ]
        }
      ]
    },
    {
      "cell_type": "markdown",
      "metadata": {
        "id": "AiCld7V4Xb0G"
      },
      "source": [
        "Παρατηρούμε ότι το αποτέλεσμα είναι πολύ παρόμοιο με αυτό της υλοποίησης out-of-the-box ή του pipeline όπου γίνεται προεπεξεργασία των δεδομένων με default τιμές στα στρώματα. Παρατηρήσαμε επίσης ότι στο grid-search υπάρχει μια τυχαιότητα, καθώς οι βέλτιστοι παράμεροι που βγάζει εμφανίζουν μικρές παραλλαγές ανάλογα με την διαχωρισμό του train και του test set."
      ]
    },
    {
      "cell_type": "markdown",
      "metadata": {
        "id": "nfpLy4uhbVrD"
      },
      "source": [
        "#Σύγκριση αποτελεσμάτων\n"
      ]
    },
    {
      "cell_type": "markdown",
      "metadata": {
        "id": "zw4FCwZKbavp"
      },
      "source": [
        "Σε αυτό το μέρος θα συγκρίνουμε τις επιδοσεις των ταξινομητών όπως προέκυψαν παραπάνω. Ξεκινάμε απο τίς out-of-the-box επιδόσεις τους."
      ]
    },
    {
      "cell_type": "code",
      "metadata": {
        "colab": {
          "base_uri": "https://localhost:8080/",
          "height": 445
        },
        "id": "xK-tRG8Le0sZ",
        "outputId": "77eca4f8-0303-432b-e0cd-0c723becf309"
      },
      "source": [
        "dummy_freq = DummyClassifier(strategy=\"most_frequent\")\n",
        "dummy_freq.fit(x_train, y_train)\n",
        "preds_dummy_freq = dummy_freq.predict(x_test)\n",
        "\n",
        "\n",
        "dummy_str = DummyClassifier(strategy=\"stratified\")\n",
        "dummy_str.fit(x_train, y_train)\n",
        "preds_dummy_str = dummy_str.predict(x_test)\n",
        "\n",
        "logistic = LogisticRegression()\n",
        "logistic.fit(x_train, y_train)\n",
        "preds_logistic = logistic.predict(x_test)\n",
        "\n",
        "gnb = GaussianNB()\n",
        "gnb.fit(x_train, y_train)\n",
        "pred_gnb = gnb.predict(x_test)\n",
        "\n",
        "kNN = KNeighborsClassifier()\n",
        "kNN.fit(x_train, y_train)\n",
        "pred_kNN = kNN.predict(x_test)\n",
        "\n",
        "import matplotlib.pyplot as plt\n",
        "\n",
        "x1 = ['Dummy_freq', 'Dummy_strat', 'LR', 'GNB', 'kNN']\n",
        "y1 = [accuracy_score(preds_dummy_freq, y_test), accuracy_score(preds_dummy_str, y_test), accuracy_score(preds_logistic, y_test), accuracy_score(pred_gnb, y_test), accuracy_score(pred_kNN, y_test)]\n",
        "\n",
        "acc_dummy_freq = accuracy_score(preds_dummy_freq, y_test)\n",
        "acc_dummy_str = accuracy_score(preds_dummy_str, y_test)\n",
        "acc_lr = accuracy_score(preds_logistic, y_test)\n",
        "acc_gnb = accuracy_score(pred_gnb, y_test)\n",
        "acc_kNN = accuracy_score(pred_kNN, y_test)\n",
        "\n",
        "f1_dummy_freq = f1_score(preds_dummy_freq, y_test)\n",
        "f1_dummy_str = f1_score(preds_dummy_str, y_test)\n",
        "f1_lr = f1_score(preds_logistic, y_test)\n",
        "f1_gnb = f1_score(pred_gnb, y_test)\n",
        "f1_kNN = f1_score(pred_kNN, y_test)\n",
        "\n",
        "from matplotlib.pyplot import figure\n",
        "\n",
        "figure(figsize=(8, 6), dpi=80)\n",
        "plt.bar(x1, y1, label=\"Blue Bar\", color='b')\n",
        "\n",
        "plt.plot()\n",
        "\n",
        "plt.xlabel(\"Classifier\")\n",
        "plt.ylabel(\"Accuracy\")\n",
        "plt.title(\"Accuracy comparison\")\n",
        "plt.legend()\n",
        "plt.show()\n"
      ],
      "execution_count": null,
      "outputs": [
        {
          "data": {
            "image/png": "[encoded data removed]",
            "text/plain": [
              "<Figure size 640x480 with 1 Axes>"
            ]
          },
          "metadata": {
            "needs_background": "light"
          },
          "output_type": "display_data"
        }
      ]
    },
    {
      "cell_type": "code",
      "metadata": {
        "colab": {
          "base_uri": "https://localhost:8080/",
          "height": 445
        },
        "id": "70X6TsxyguBR",
        "outputId": "b26f3229-5dc1-4c60-b733-da84cc983ca1"
      },
      "source": [
        "x1 = ['Dummy_freq', 'Dummy_strat', 'LR', 'GNB', 'kNN']\n",
        "y1 = [f1_score(preds_dummy_freq, y_test), f1_score(preds_dummy_str, y_test), f1_score(preds_logistic, y_test), f1_score(pred_gnb, y_test), f1_score(pred_kNN, y_test)]\n",
        "\n",
        "\n",
        "from matplotlib.pyplot import figure\n",
        "\n",
        "figure(figsize=(8, 6), dpi=80)\n",
        "plt.bar(x1, y1, label=\"Blue Bar\", color='b')\n",
        "\n",
        "plt.plot()\n",
        "\n",
        "plt.xlabel(\"Classifier\")\n",
        "plt.ylabel(\"f1-score\")\n",
        "plt.title(\"f1-score comparison\")\n",
        "plt.legend()\n",
        "plt.show()"
      ],
      "execution_count": null,
      "outputs": [
        {
          "data": {
            "image/png": "[encoded data removed]",
            "text/plain": [
              "<Figure size 640x480 with 1 Axes>"
            ]
          },
          "metadata": {
            "needs_background": "light"
          },
          "output_type": "display_data"
        }
      ]
    },
    {
      "cell_type": "code",
      "metadata": {
        "colab": {
          "base_uri": "https://localhost:8080/",
          "height": 147
        },
        "id": "EqytjNWrYXdi",
        "outputId": "9997b1f3-46df-4390-de3d-80f75267b0be"
      },
      "source": [
        "from IPython.display import Markdown, display\n",
        "def printmd(string):\n",
        "    display(Markdown(string))\n",
        "'''\n",
        "print(\"Dummy_freq:\")\n",
        "print(\"F1: {}\".format(f1_score(preds_dummy_freq, y_test)))\n",
        "print(\"Accuracy: {}\".format(accuracy_score(preds_dummy_freq, y_test)))\n",
        "\n",
        "print(\"Dummy_strat:\")\n",
        "print(\"F1: {}\".format(f1_score(preds_dummy_str, y_test)))\n",
        "print(\"Accuracy: {}\".format(accuracy_score(preds_dummy_str, y_test)))\n",
        "\n",
        "print(\"Logistic Regression\")\n",
        "print(\"F1: {}\".format(f1_score(preds_logistic, y_test)))\n",
        "print(\"Accuracy: {}\".format(accuracy_score(preds_logistic, y_test)))\n",
        "print(\"GNB\")\n",
        "print(\"F1: {}\".format(f1_score(pred_gnb, y_test)))\n",
        "print(\"Accuracy: {}\".format(accuracy_score(pred_gnb, y_test)))\n",
        "print(\"kNN\")\n",
        "print(\"F1: {}\".format(f1_score(pred_kNN, y_test)))\n",
        "print(\"Accuracy: {}\".format(accuracy_score(pred_kNN, y_test)))\n",
        "'''\n",
        "\n",
        "from sklearn.metrics import accuracy_score, f1_score\n",
        "markdown = \"\"\"Out-of-the-box-classifiers  | Accuracy | F1-score\n",
        "------------- | ------------- | ------------\"\"\"\n",
        "classifierss = ['Dummy(Most frequent strategy)', 'Dummy(Stratified Strategy)', 'Logistic Regression', 'GNB', 'kNN']\n",
        "predicts = [preds_dummy_freq, preds_dummy_str, preds_logistic, pred_gnb, pred_kNN]\n",
        "\n",
        "for i in range(5):\n",
        "    acc = accuracy_score(predicts[i], y_test)\n",
        "    f1 = f1_score(predicts[i], y_test)\n",
        "    markdown += \"\"\"\n",
        "     {} | {} | {}\"\"\".format(classifierss[i], round(acc,3), round(f1,3))\n",
        "printmd(markdown)"
      ],
      "execution_count": null,
      "outputs": [
        {
          "output_type": "display_data",
          "data": {
            "text/markdown": "Out-of-the-box-classifiers  | Accuracy | F1-score\n------------- | ------------- | ------------\n     Dummy(Most frequent strategy) | 0.764 | 0.866\n     Dummy(Stratified Strategy) | 0.545 | 0.675\n     Logistic Regression | 0.745 | 0.854\n     GNB | 0.673 | 0.795\n     kNN | 0.618 | 0.747",
            "text/plain": [
              "<IPython.core.display.Markdown object>"
            ]
          },
          "metadata": {}
        }
      ]
    },
    {
      "cell_type": "markdown",
      "metadata": {
        "id": "nBKOYK01iYeB"
      },
      "source": [
        "\n",
        "\n",
        "\n",
        "Παρατηρούμε, λοιπόν από τα bar plots και από τον παραπάνω πίνακα ότι ο dummy classifier με την most frequent στρατηγική και ο LR έχουν την καλύτερη επίδοση για την out-of-the-box υλοποίηση."
      ]
    },
    {
      "cell_type": "markdown",
      "metadata": {
        "id": "ghQ0j2GmjoR8"
      },
      "source": [
        "Τώρα θα συγκρίνουμε τις επιδόσεις των pipelines που έχουν δημιουργηθεί για κάθε ταξινομητή με βέλτιστες παραμέτρους των στρωμάτων που βρέθηκαν παραπάνω."
      ]
    },
    {
      "cell_type": "code",
      "metadata": {
        "colab": {
          "base_uri": "https://localhost:8080/",
          "height": 147
        },
        "id": "jSxwITxZYdkJ",
        "outputId": "e7ef7604-d135-4e47-9480-c01181d53787"
      },
      "source": [
        "import time\n",
        "\n",
        "selector = VarianceThreshold(threshold=0)\n",
        "scaler = StandardScaler()\n",
        "mmscaler = MinMaxScaler()\n",
        "ros = RandomOverSampler()\n",
        "pca = PCA(n_components=2)\n",
        "sm = SMOTE()\n",
        "\n",
        "dummy = DummyClassifier(strategy='most_frequent')\n",
        "pipe = Pipeline(steps=[('selector', selector), ('scaler', scaler), ('sm', sm), ('pca', pca), ('dummy', dummy)])\n",
        "start_time = time.time()\n",
        "pipe.fit(x_train,y_train)\n",
        "train_time_dummy_freq = time.time() - start_time\n",
        "\n",
        "start_time = time.time()\n",
        "preds_dummy_freq = pipe.predict(x_test)\n",
        "test_time_dummy_freq = time.time() - start_time\n",
        "\n",
        "selector = VarianceThreshold(threshold=0.01)\n",
        "scaler = StandardScaler()\n",
        "mmscaler = MinMaxScaler()\n",
        "ros = RandomOverSampler(sampling_strategy=0.8)\n",
        "pca = PCA(n_components=6)\n",
        "sm = SMOTE()\n",
        "\n",
        "\n",
        "dummy = DummyClassifier(strategy='stratified')\n",
        "pipe = Pipeline(steps=[('selector', selector), ('scaler', scaler), ('ros', ros), ('pca', pca), ('dummy', dummy)])\n",
        "\n",
        "start_time = time.time()\n",
        "pipe.fit(x_train, y_train)\n",
        "train_time_dummy_str = time.time() - start_time\n",
        "\n",
        "start_time = time.time()\n",
        "preds_dummy_str = pipe.predict(x_test)\n",
        "test_time_dummy_str = time.time() - start_time\n",
        "\n",
        "selector = VarianceThreshold(threshold=0)\n",
        "scaler = StandardScaler()\n",
        "mmscaler = MinMaxScaler()\n",
        "ros = RandomOverSampler(sampling_strategy=0.7)\n",
        "pca = PCA(n_components=2)\n",
        "sm = SMOTE()\n",
        "\n",
        "lr = LogisticRegression(C=0.01)\n",
        "pipe = Pipeline(steps=[('selector', selector), ('scaler', mmscaler), ('ros', ros), ('pca', pca), ('lr', lr)])\n",
        "start_time = time.time()\n",
        "pipe.fit(x_train, y_train)\n",
        "train_time_lr = time.time() - start_time\n",
        "\n",
        "start_time = time.time()\n",
        "preds_lr = pipe.predict(x_test)\n",
        "test_time_lr = time.time() - start_time\n",
        "\n",
        "gnb = GaussianNB(var_smoothing=1e-11)\n",
        "pca = PCA(10)\n",
        "selector = VarianceThreshold(0.1)\n",
        "scaler = MinMaxScaler()\n",
        "\n",
        "pipe = Pipeline(steps=[('selector', selector), ('scaler', scaler), ('pca', pca), ('GNB', gnb)])\n",
        "start_time = time.time()\n",
        "pipe.fit(x_train, y_train)\n",
        "train_time_gnb = time.time() - start_time\n",
        "\n",
        "start_time = time.time()\n",
        "preds_gnb = pipe.predict(x_test)\n",
        "test_time_gnb = time.time() - start_time\n",
        "\n",
        "selector = VarianceThreshold(threshold=0.13)\n",
        "scaler = StandardScaler()\n",
        "ros = RandomOverSampler(sampling_strategy = 0.7)\n",
        "pca = PCA(n_components=2)\n",
        "clf = KNeighborsClassifier(metric= 'manhattan',n_neighbors = 2,n_jobs=-1) # η παράμετρος n_jobs = 1 χρησιμοποιεί όλους τους πυρήνες του υπολογιστή\n",
        "pipe = Pipeline(steps=[('selector', selector), ('scaler', scaler), ('sampler', ros), ('pca', pca), ('kNN', clf)])\n",
        "\n",
        "start_time = time.time()\n",
        "pipe.fit(x_train, y_train)\n",
        "train_time_kNN = time.time() - start_time\n",
        "\n",
        "start_time = time.time()\n",
        "preds_kNN = pipe.predict(x_test)\n",
        "test_time_kNN = time.time() - start_time\n",
        "'''\n",
        "print(\"Dummy_freq:\")\n",
        "print(\"F1: {}\".format(f1_score(preds_dummy_freq, y_test)))\n",
        "print(\"Accuracy: {}\".format(accuracy_score(preds_dummy_freq, y_test)))\n",
        "print(\"Train time: {}\".format(train_time_dummy_freq))\n",
        "print(\"Test time: {}\".format(test_time_dummy_freq))\n",
        "\n",
        "print(\"Dummy_strat:\")\n",
        "print(\"F1: {}\".format(f1_score(preds_dummy_str, y_test)))\n",
        "print(\"Accuracy: {}\".format(accuracy_score(preds_dummy_str, y_test)))\n",
        "print(\"Train time: {}\".format(train_time_dummy_str))\n",
        "print(\"Test time: {}\".format(test_time_dummy_str))\n",
        "\n",
        "print(\"Logistic Regression\")\n",
        "print(\"F1: {}\".format(f1_score(preds_lr, y_test)))\n",
        "print(\"Accuracy: {}\".format(accuracy_score(preds_lr, y_test)))\n",
        "print(\"Train time: {}\".format(train_time_lr))\n",
        "print(\"Test time: {}\".format(test_time_lr))\n",
        "\n",
        "print(\"GNB\")\n",
        "print(\"F1: {}\".format(f1_score(preds_gnb, y_test)))\n",
        "print(\"Accuracy: {}\".format(accuracy_score(preds_gnb, y_test)))\n",
        "print(\"Train time: {}\".format(train_time_gnb))\n",
        "print(\"Test time: {}\".format(test_time_gnb))\n",
        "\n",
        "print(\"kNN\")\n",
        "print(\"F1: {}\".format(f1_score(preds_kNN, y_test)))\n",
        "print(\"Accuracy: {}\".format(accuracy_score(preds_kNN, y_test)))\n",
        "print(\"Train time: {}\".format(train_time_kNN))\n",
        "print(\"Test time: {}\".format(test_time_kNN))\n",
        "'''\n",
        "\n",
        "markdown = \"\"\"Classifiers  | Accuracy | f1-score | Train Time | Test Time\n",
        "------------- | ------------- | ------------|---------------|-------------\"\"\"\n",
        "classifierss = ['Dummy(Most frequent strategy)', 'Dummy(Stratified Strategy)', 'Logistic Regression', 'GNB', 'kNN']\n",
        "predicts = [preds_dummy_freq, preds_dummy_str, preds_lr, preds_gnb, preds_kNN]\n",
        "train_times = [train_time_dummy_freq, train_time_dummy_str, train_time_lr, train_time_gnb, train_time_kNN]\n",
        "test_times = [test_time_dummy_freq, test_time_dummy_str, test_time_lr, test_time_gnb, test_time_kNN]\n",
        "\n",
        "for i in range(5):\n",
        "    acc = accuracy_score(predicts[i], y_test)\n",
        "    f1 = f1_score(predicts[i], y_test)\n",
        "    markdown += \"\"\"\n",
        "     {} | {} | {} | {} | {}\"\"\".format(classifierss[i], round(acc,3), round(f1,3), round(train_times[i],4), round(test_times[i],5))\n",
        "printmd(markdown)"
      ],
      "execution_count": null,
      "outputs": [
        {
          "output_type": "display_data",
          "data": {
            "text/markdown": "Classifiers  | Accuracy | f1-score | Train Time | Test Time\n------------- | ------------- | ------------|---------------|-------------\n     Dummy(Most frequent strategy) | 0.764 | 0.866 | 0.0043 | 0.00049\n     Dummy(Stratified Strategy) | 0.436 | 0.537 | 0.0025 | 0.00059\n     Logistic Regression | 0.764 | 0.866 | 0.0045 | 0.00055\n     GNB | 0.745 | 0.841 | 0.002 | 0.00063\n     kNN | 0.691 | 0.805 | 0.0027 | 0.10447",
            "text/plain": [
              "<IPython.core.display.Markdown object>"
            ]
          },
          "metadata": {}
        }
      ]
    },
    {
      "cell_type": "markdown",
      "metadata": {
        "id": "-nO3HCPt-7vS"
      },
      "source": [
        "Παρατητούμε ότι όλοι οι ταξινομητές πλην του Dummy με stratified strategy εμφανίζουν παρόμοι acuracies. Ο kNN εμφανίζει το μικρότερο. Βλέπουμε επίσης ότι έχει και το μεγαλύτερο Test Time, επαληθεύοντας ότι ο kNN είναι υπολογιστικά βαρύς στο testing."
      ]
    },
    {
      "cell_type": "code",
      "metadata": {
        "colab": {
          "base_uri": "https://localhost:8080/",
          "height": 445
        },
        "id": "XdRc_deB9rEp",
        "outputId": "c209f7e3-ec50-4dad-cb66-88aac166ff85"
      },
      "source": [
        "# Look at index 4 and 6, which demonstrate overlapping cases.\n",
        "x1 = ['Dummy_freq', 'Dummy_strat', 'LR', 'GNB', 'kNN']\n",
        "y1 = [accuracy_score(preds_dummy_freq, y_test), accuracy_score(preds_dummy_str, y_test), accuracy_score(preds_logistic, y_test), accuracy_score(preds_gnb, y_test), accuracy_score(preds_kNN, y_test)]\n",
        "\n",
        "y2 = [acc_dummy_freq, acc_dummy_str, acc_lr, acc_gnb, acc_kNN]\n",
        "\n",
        "from matplotlib.pyplot import figure\n",
        "\n",
        "figure(figsize=(8, 6), dpi=80)\n",
        "plt.bar(x1, y1, label=\"Accuracies\", color='b')\n",
        "#plt.bar(x1, y2, label = 'Accuracy of out-of-the-box', color='r')\n",
        "plt.bar(x1, [a - b for a, b in zip(y1, y2)], label= 'Change of accuracy compared to out-of-the-box', color='r')\n",
        "plt.plot()\n",
        "\n",
        "plt.xlabel(\"Classifier\")\n",
        "plt.ylabel(\"Accuracy\")\n",
        "plt.title(\"Accuracy comparison\")\n",
        "plt.legend()\n",
        "plt.show()"
      ],
      "execution_count": null,
      "outputs": [
        {
          "data": {
            "image/png": "[encoded data removed]",
            "text/plain": [
              "<Figure size 640x480 with 1 Axes>"
            ]
          },
          "metadata": {
            "needs_background": "light"
          },
          "output_type": "display_data"
        }
      ]
    },
    {
      "cell_type": "code",
      "metadata": {
        "colab": {
          "base_uri": "https://localhost:8080/",
          "height": 445
        },
        "id": "xyeVAT8UAQTJ",
        "outputId": "fbcdb0f6-6872-4ed3-bd28-99523c6cc4a0"
      },
      "source": [
        "x1 = ['Dummy_freq', 'Dummy_strat', 'LR', 'GNB', 'kNN']\n",
        "y1 = [f1_score(preds_dummy_freq, y_test), f1_score(preds_dummy_str, y_test), f1_score(preds_logistic, y_test), f1_score(pred_gnb, y_test), f1_score(pred_kNN, y_test)]\n",
        "y2 = [f1_dummy_freq, f1_dummy_str, f1_lr, f1_gnb, f1_kNN]\n",
        "\n",
        "# Colors: https://matplotlib.org/api/colors_api.html\n",
        "from matplotlib.pyplot import figure\n",
        "\n",
        "figure(figsize=(8, 6), dpi=80)\n",
        "plt.bar(x1, y1, label=\"f1-scores\", color='b')\n",
        "#plt.bar(x1, y2, label = 'Accuracy of out-of-the-box', color='r')\n",
        "plt.bar(x1, [a - b for a, b in zip(y1, y2)], label= 'Change of accuracy compared to out-of-the-box', color='r')\n",
        "\n",
        "plt.plot()\n",
        "\n",
        "plt.xlabel(\"Classifier\")\n",
        "plt.ylabel(\"F1\")\n",
        "plt.title(\"F1 comparison\")\n",
        "plt.legend()\n",
        "plt.show()\n"
      ],
      "execution_count": null,
      "outputs": [
        {
          "data": {
            "image/png": "[encoded data removed]",
            "text/plain": [
              "<Figure size 640x480 with 1 Axes>"
            ]
          },
          "metadata": {
            "needs_background": "light"
          },
          "output_type": "display_data"
        }
      ]
    },
    {
      "cell_type": "markdown",
      "metadata": {
        "id": "u3bX8FYiGjpd"
      },
      "source": [
        "Ο καλύτερος ταξινομητής προκύπτει ότι είναι ο Logistic Regression Classifier και ο χειρότερος ο kNN Classifier. Παρακάτω ακολουθούν ο πίνακας σύγχυσης του καθενός. Στους πίνακες σύγχυσης αναφέρεται ως positive να έχει επιλεχθεί η κλάση δύο. Δηλάδη: <br>\n",
        "1. True Negative: Έχει εκτιμηθεί σωστά δείγμα της πρώτη κλάση.\n",
        "2. False Negative: Έχει εκτιμηθεί λάθος δείγμα της δεύτερης κλάσης ως αντικείμενο της πρώτης.\n",
        "3. False Positive: Έχει εκτιμηθεί λάθος δείγμα της πρώτης κλάσης ως αντικείμενο της δεύτερης.\n",
        "4. True Positive: Έχει εκτιμηθεί σωστά δείγμα της δεύτερης κλάσης."
      ]
    },
    {
      "cell_type": "code",
      "metadata": {
        "colab": {
          "base_uri": "https://localhost:8080/",
          "height": 320
        },
        "id": "4mr0EgeqG1Hd",
        "outputId": "e0d9bcd1-f752-4b4c-b68c-bcb773809e40"
      },
      "source": [
        "from sklearn.metrics import confusion_matrix\n",
        "cf_matrix = confusion_matrix(y_test, preds_lr)\n",
        "labels = ['True Neg','False Pos','False Neg','True Pos']\n",
        "categories = ['class 1', 'class 2']\n",
        "import seaborn as sns\n",
        "print(\"Ο πίνακας σύγχυσης του Logistic Regression\")\n",
        "make_confusion_matrix(cf_matrix, \n",
        "                      group_names=labels,\n",
        "                      categories=categories, \n",
        "                      cmap='binary')"
      ],
      "execution_count": null,
      "outputs": [
        {
          "name": "stdout",
          "output_type": "stream",
          "text": [
            "Ο πίνακας σύγχυσης του Logistic Regression\n"
          ]
        },
        {
          "data": {
            "image/png": "[encoded data removed]",
            "text/plain": [
              "<Figure size 432x288 with 2 Axes>"
            ]
          },
          "metadata": {
            "needs_background": "light"
          },
          "output_type": "display_data"
        }
      ]
    },
    {
      "cell_type": "code",
      "metadata": {
        "colab": {
          "base_uri": "https://localhost:8080/"
        },
        "id": "SrAowzytIJer",
        "outputId": "a8f7ed00-8d8d-4fdd-fe96-31931cc58d5d"
      },
      "source": [
        "print(preds_lr)"
      ],
      "execution_count": null,
      "outputs": [
        {
          "name": "stdout",
          "output_type": "stream",
          "text": [
            "[1. 1. 1. 1. 1. 1. 1. 1. 1. 1. 1. 1. 1. 1. 1. 1. 1. 1. 1. 1. 1. 1. 1. 1.\n",
            " 1. 1. 1. 1. 1. 1. 1. 1. 1. 1. 1. 1. 1. 1. 1. 1. 1. 1. 1. 1. 1. 1. 1. 1.\n",
            " 1. 1. 1. 1. 1. 1. 1.]\n"
          ]
        }
      ]
    },
    {
      "cell_type": "markdown",
      "metadata": {
        "id": "PqxMMFgWJMLx"
      },
      "source": [
        "Παρατηρούμε ότι δεν έχει εκτιθμηθεί κανένα δείγμα ως αντικείμενο της δεύτερης κλάσης και για αυτό το False Positive και το True Positive είναι μηδενικά. Επιτυγχάνεται λοιπόν αυτό το accuracy, διότι τα περισσότερα δείγματα του test set (76%) ανήκουν στην πρώτη κλάση και αν ο classifier τα εκτιμά όλα ως 1, επιτυγχάνει αυτό το ποσοστό. Προφανώς αυτή είναι μια προβληματική προσέγγιση, αλλά δυστυχώς εμφανίζει τα καλύτερα αποτελέσματα σε αυτό το σύνολο δεδομένων, αφού αυτό είναι πολυ imbalanced και περιέχει πολύ λίγα δείγματα ώστε να γίνει καλύτερη εκπαίδευση."
      ]
    },
    {
      "cell_type": "code",
      "metadata": {
        "colab": {
          "base_uri": "https://localhost:8080/",
          "height": 324
        },
        "id": "1uvCJp3vHM4N",
        "outputId": "7761311e-6a3d-4f2e-8312-d9e33190e06c"
      },
      "source": [
        "from sklearn.metrics import confusion_matrix\n",
        "cf_matrix = confusion_matrix(y_test, preds_kNN)\n",
        "labels = ['True Neg','False Pos','False Neg','True Pos']\n",
        "categories = ['class 1', 'class 2']\n",
        "import seaborn as sns\n",
        "print(\"Ο πίνακας σύγχυσης του kNN\")\n",
        "make_confusion_matrix(cf_matrix, \n",
        "                      group_names=labels,\n",
        "                      categories=categories, \n",
        "                      cmap='binary')"
      ],
      "execution_count": null,
      "outputs": [
        {
          "name": "stdout",
          "output_type": "stream",
          "text": [
            "Ο πίνακας σύγχυσης του kNN\n"
          ]
        },
        {
          "data": {
            "image/png": "[encoded data removed]",
            "text/plain": [
              "<Figure size 432x288 with 2 Axes>"
            ]
          },
          "metadata": {
            "needs_background": "light"
          },
          "output_type": "display_data"
        }
      ]
    },
    {
      "cell_type": "markdown",
      "metadata": {
        "id": "hry5wFUUKCpO"
      },
      "source": [
        "Σε αυτή την περίπτωση δειγματα εκτιμούνται ότι ανήκουν στην κλάση 2, το οποίο είναι πιο φυσιολογικό. Παρόλα αυτά επιτυγχάνεται πολύ μικρό ποσοστό σωστών προβλέψεων της κλάσης 2 (γύρω στο 5%), ενώ μειώνεται και το ποσοστό επιτυχών προβλέψεων δειγμάτων της κλάσης 1 (Περίπου 63%). "
      ]
    },
    {
      "cell_type": "markdown",
      "metadata": {
        "id": "gi_ZougCKkKb"
      },
      "source": [
        "#Συμπέρασμα\n",
        "Γενίκα το συγκεκριμένο σύνολο δεδομένων έχει πολύ λίγα δείγματα και είναι αρκετά imbalanced, καθώς τα περισσότερα δείγματα ανήκουν στην κλάση 1. Επομένων, είναι δύσκολη η αποτελεσματική εκπαίδευση ενός ταξινομητή, ειδικά ώστε να εντοπίζει επιτυχώς δείγματα που ανήκουν στην κλάση 2. Τα καλύτερα αποτελέσματα φαίνεται ότι εμφανίζουν οι dummy classifiers, οι οποίοι εκτιμούν μόνο την κλάση 1 καθώς και ο logistic regression classifier, όταν εκτιμά όλα τα δειγματα στην κλάση 1. Είναι φανερό ότι αυτός δεν είναι ένας επιθυμητός ταξινομητής καθώς είναι υπεραπλουστευτικός και απλά επιτυγχάνει σχετικά μεγάλο accuracy γιατί είναι πιο πιθανή η κατάσταση του relax από το planning. Επομένως, αν καλούμασταν να προτείνουμε κάποιον από τους ταξινομητές, θα ήταν ένας από αυτούς, γνωρίζοντας όμως αυτή την λεπτομέρεια. "
      ]
    }
  ]
}
